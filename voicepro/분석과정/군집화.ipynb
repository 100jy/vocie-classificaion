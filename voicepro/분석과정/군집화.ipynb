{
 "cells": [
  {
   "cell_type": "markdown",
   "metadata": {},
   "source": [
    "# 군집화를 통한 labeling"
   ]
  },
  {
   "cell_type": "code",
   "execution_count": 1,
   "metadata": {},
   "outputs": [
    {
     "data": {
      "text/plain": [
       "(126, 20)"
      ]
     },
     "execution_count": 1,
     "metadata": {},
     "output_type": "execute_result"
    }
   ],
   "source": [
    "import pandas as pd\n",
    "from sklearn.cluster import DBSCAN\n",
    "\n",
    "\n",
    "df = pd.read_csv('./data.csv',encoding = 'euc-kr')\n",
    "df.columns = ['singer']+[x for x in range(len(df.columns)-1)]\n",
    "name = df['singer']\n",
    "del df['singer']\n",
    "df.shape"
   ]
  },
  {
   "cell_type": "markdown",
   "metadata": {},
   "source": [
    "## Scaling"
   ]
  },
  {
   "cell_type": "code",
   "execution_count": 11,
   "metadata": {},
   "outputs": [],
   "source": [
    "from sklearn.preprocessing import StandardScaler\n",
    "scale = StandardScaler()\n",
    "scale.fit(df)\n",
    "scaled_X = scale.transform(df)"
   ]
  },
  {
   "cell_type": "code",
   "execution_count": 2,
   "metadata": {},
   "outputs": [],
   "source": [
    "scaled_X = df"
   ]
  },
  {
   "cell_type": "markdown",
   "metadata": {},
   "source": [
    "## DBSCAN"
   ]
  },
  {
   "cell_type": "code",
   "execution_count": null,
   "metadata": {},
   "outputs": [],
   "source": [
    "#DBSCAN\n",
    "from sklearn.cluster import DBSCAN\n",
    "dbscan = DBSCAN(eps=5, min_samples=2) #기본값이다.\n",
    "cluster = dbscan.fit_predict(scaled_X)\n",
    "df[\"cluster\"] = cluster\n",
    "print(df)\n",
    "df[\"cluster\"] ==0"
   ]
  },
  {
   "cell_type": "markdown",
   "metadata": {},
   "source": [
    "## K-MEANS"
   ]
  },
  {
   "cell_type": "markdown",
   "metadata": {},
   "source": [
    "### Scree plot"
   ]
  },
  {
   "cell_type": "code",
   "execution_count": 3,
   "metadata": {},
   "outputs": [
    {
     "data": {
      "text/plain": [
       "<Figure size 640x480 with 1 Axes>"
      ]
     },
     "metadata": {},
     "output_type": "display_data"
    }
   ],
   "source": [
    "from sklearn.cluster import KMeans\n",
    "import matplotlib.pyplot  as plt\n",
    "def elbow(X):\n",
    "    sse = []\n",
    "\n",
    "    for i in range(1,11):\n",
    "        km = KMeans(n_clusters=i,algorithm='auto', random_state=42)\n",
    "        km.fit(X)\n",
    "        sse.append(km.inertia_)\n",
    "\n",
    "    plt.plot(range(1,11), sse, marker='o')\n",
    "    plt.xlabel('K')\n",
    "    plt.ylabel('SSE')\n",
    "    plt.savefig('fig.png', dpi=300)\n",
    "    plt.show()\n",
    "    \n",
    "\n",
    "elbow(scaled_X)\n"
   ]
  },
  {
   "cell_type": "code",
   "execution_count": 4,
   "metadata": {},
   "outputs": [
    {
     "name": "stdout",
     "output_type": "stream",
     "text": [
      "     predict\n",
      "0          3\n",
      "1          5\n",
      "2          0\n",
      "3          3\n",
      "4          5\n",
      "..       ...\n",
      "121        0\n",
      "122        0\n",
      "123        2\n",
      "124        3\n",
      "125        5\n",
      "\n",
      "[126 rows x 1 columns]\n",
      "1번째 군집은 29개\n",
      "2번째 군집은 9개\n",
      "3번째 군집은 19개\n",
      "4번째 군집은 22개\n",
      "5번째 군집은 11개\n",
      "6번째 군집은 36개\n"
     ]
    }
   ],
   "source": [
    "from sklearn.cluster import KMeans\n",
    "import matplotlib.pyplot  as plt\n",
    "\n",
    "k = 6\n",
    "# create model and prediction\n",
    "model = KMeans(n_clusters=k,algorithm='auto')\n",
    "model.fit(scaled_X)\n",
    "predict = pd.DataFrame(model.predict(scaled_X))\n",
    "predict.columns=['predict']\n",
    "\n",
    "print(predict)\n",
    "count=[]\n",
    "for i in range(k):\n",
    "    count.append(sum(predict['predict']==i))\n",
    "\n",
    "string = 'abcdefg'\n",
    "    \n",
    "for i in range(k):\n",
    "    print('{}번째 군집은 {}개'.format(i+1,count[i]))\n",
    "    predict['predict'] = predict['predict'].replace(i,string[i])"
   ]
  },
  {
   "cell_type": "markdown",
   "metadata": {},
   "source": [
    "## Ploting by PCA "
   ]
  },
  {
   "cell_type": "code",
   "execution_count": 7,
   "metadata": {},
   "outputs": [
    {
     "name": "stdout",
     "output_type": "stream",
     "text": [
      "         pc1      pc2  singer cluster\n",
      "0    68.6552 -17.6905    10cm       d\n",
      "1    25.0651 -40.2164    Buzz       f\n",
      "2   -73.0192 -15.9377   Crush       a\n",
      "3    80.8877 -4.98257  K.Will       d\n",
      "4    9.60738  -27.855     KCM       f\n",
      "..       ...      ...     ...     ...\n",
      "121 -38.5323 -32.5468      환희       a\n",
      "122 -59.9446   3.5453     황인욱       a\n",
      "123 -9.76379  12.5374      효린       c\n",
      "124  103.407  30.6232      휘성       d\n",
      "125   1.0248 -51.8263      휘인       f\n",
      "\n",
      "[126 rows x 4 columns]\n"
     ]
    },
    {
     "data": {
      "text/html": [
       "<div>\n",
       "<style scoped>\n",
       "    .dataframe tbody tr th:only-of-type {\n",
       "        vertical-align: middle;\n",
       "    }\n",
       "\n",
       "    .dataframe tbody tr th {\n",
       "        vertical-align: top;\n",
       "    }\n",
       "\n",
       "    .dataframe thead th {\n",
       "        text-align: right;\n",
       "    }\n",
       "</style>\n",
       "<table border=\"1\" class=\"dataframe\">\n",
       "  <thead>\n",
       "    <tr style=\"text-align: right;\">\n",
       "      <th></th>\n",
       "      <th>pc1</th>\n",
       "      <th>pc2</th>\n",
       "      <th>singer</th>\n",
       "      <th>cluster</th>\n",
       "    </tr>\n",
       "  </thead>\n",
       "  <tbody>\n",
       "    <tr>\n",
       "      <th>2</th>\n",
       "      <td>-73.0192</td>\n",
       "      <td>-15.9377</td>\n",
       "      <td>Crush</td>\n",
       "      <td>a</td>\n",
       "    </tr>\n",
       "    <tr>\n",
       "      <th>7</th>\n",
       "      <td>-30.6701</td>\n",
       "      <td>-29.4859</td>\n",
       "      <td>거미</td>\n",
       "      <td>a</td>\n",
       "    </tr>\n",
       "    <tr>\n",
       "      <th>13</th>\n",
       "      <td>-48.7672</td>\n",
       "      <td>-21.0268</td>\n",
       "      <td>김범수</td>\n",
       "      <td>a</td>\n",
       "    </tr>\n",
       "    <tr>\n",
       "      <th>14</th>\n",
       "      <td>-27.0337</td>\n",
       "      <td>-9.92052</td>\n",
       "      <td>김연우</td>\n",
       "      <td>a</td>\n",
       "    </tr>\n",
       "    <tr>\n",
       "      <th>18</th>\n",
       "      <td>-44.1946</td>\n",
       "      <td>-32.9843</td>\n",
       "      <td>김조한</td>\n",
       "      <td>a</td>\n",
       "    </tr>\n",
       "    <tr>\n",
       "      <th>20</th>\n",
       "      <td>-42.6453</td>\n",
       "      <td>-0.0801593</td>\n",
       "      <td>김태우</td>\n",
       "      <td>a</td>\n",
       "    </tr>\n",
       "    <tr>\n",
       "      <th>26</th>\n",
       "      <td>-53.6777</td>\n",
       "      <td>0.302432</td>\n",
       "      <td>럼블피쉬</td>\n",
       "      <td>a</td>\n",
       "    </tr>\n",
       "    <tr>\n",
       "      <th>28</th>\n",
       "      <td>-71.0867</td>\n",
       "      <td>7.28028</td>\n",
       "      <td>린</td>\n",
       "      <td>a</td>\n",
       "    </tr>\n",
       "    <tr>\n",
       "      <th>32</th>\n",
       "      <td>-32.5407</td>\n",
       "      <td>-3.25566</td>\n",
       "      <td>바비킴</td>\n",
       "      <td>a</td>\n",
       "    </tr>\n",
       "    <tr>\n",
       "      <th>51</th>\n",
       "      <td>-31.6462</td>\n",
       "      <td>1.30757</td>\n",
       "      <td>성시경</td>\n",
       "      <td>a</td>\n",
       "    </tr>\n",
       "    <tr>\n",
       "      <th>52</th>\n",
       "      <td>-26.1695</td>\n",
       "      <td>-13.8815</td>\n",
       "      <td>세정</td>\n",
       "      <td>a</td>\n",
       "    </tr>\n",
       "    <tr>\n",
       "      <th>57</th>\n",
       "      <td>-73.0992</td>\n",
       "      <td>-12.6367</td>\n",
       "      <td>신승훈</td>\n",
       "      <td>a</td>\n",
       "    </tr>\n",
       "    <tr>\n",
       "      <th>59</th>\n",
       "      <td>-70.1327</td>\n",
       "      <td>-12.9604</td>\n",
       "      <td>신용재</td>\n",
       "      <td>a</td>\n",
       "    </tr>\n",
       "    <tr>\n",
       "      <th>63</th>\n",
       "      <td>-80.6253</td>\n",
       "      <td>-4.63053</td>\n",
       "      <td>양파</td>\n",
       "      <td>a</td>\n",
       "    </tr>\n",
       "    <tr>\n",
       "      <th>64</th>\n",
       "      <td>-53.5159</td>\n",
       "      <td>1.02433</td>\n",
       "      <td>에디킴</td>\n",
       "      <td>a</td>\n",
       "    </tr>\n",
       "    <tr>\n",
       "      <th>67</th>\n",
       "      <td>-19.7852</td>\n",
       "      <td>-15.2555</td>\n",
       "      <td>윤건</td>\n",
       "      <td>a</td>\n",
       "    </tr>\n",
       "    <tr>\n",
       "      <th>79</th>\n",
       "      <td>-29.93</td>\n",
       "      <td>-29.5008</td>\n",
       "      <td>이예준</td>\n",
       "      <td>a</td>\n",
       "    </tr>\n",
       "    <tr>\n",
       "      <th>85</th>\n",
       "      <td>-26.905</td>\n",
       "      <td>-25.3693</td>\n",
       "      <td>이해리</td>\n",
       "      <td>a</td>\n",
       "    </tr>\n",
       "    <tr>\n",
       "      <th>89</th>\n",
       "      <td>-42.1665</td>\n",
       "      <td>-24.2808</td>\n",
       "      <td>임재현</td>\n",
       "      <td>a</td>\n",
       "    </tr>\n",
       "    <tr>\n",
       "      <th>92</th>\n",
       "      <td>-56.2178</td>\n",
       "      <td>-20.4888</td>\n",
       "      <td>잔나비</td>\n",
       "      <td>a</td>\n",
       "    </tr>\n",
       "    <tr>\n",
       "      <th>106</th>\n",
       "      <td>-45.144</td>\n",
       "      <td>-41.912</td>\n",
       "      <td>지나</td>\n",
       "      <td>a</td>\n",
       "    </tr>\n",
       "    <tr>\n",
       "      <th>109</th>\n",
       "      <td>-48.7749</td>\n",
       "      <td>-10.493</td>\n",
       "      <td>진민호</td>\n",
       "      <td>a</td>\n",
       "    </tr>\n",
       "    <tr>\n",
       "      <th>110</th>\n",
       "      <td>-50.6867</td>\n",
       "      <td>-31.4769</td>\n",
       "      <td>찬열</td>\n",
       "      <td>a</td>\n",
       "    </tr>\n",
       "    <tr>\n",
       "      <th>111</th>\n",
       "      <td>-40.8867</td>\n",
       "      <td>-2.61424</td>\n",
       "      <td>창모</td>\n",
       "      <td>a</td>\n",
       "    </tr>\n",
       "    <tr>\n",
       "      <th>112</th>\n",
       "      <td>-30.6287</td>\n",
       "      <td>-0.981492</td>\n",
       "      <td>태연</td>\n",
       "      <td>a</td>\n",
       "    </tr>\n",
       "    <tr>\n",
       "      <th>115</th>\n",
       "      <td>-30.3521</td>\n",
       "      <td>-7.28878</td>\n",
       "      <td>폴킴</td>\n",
       "      <td>a</td>\n",
       "    </tr>\n",
       "    <tr>\n",
       "      <th>116</th>\n",
       "      <td>-26.0892</td>\n",
       "      <td>-10.1936</td>\n",
       "      <td>하동균</td>\n",
       "      <td>a</td>\n",
       "    </tr>\n",
       "    <tr>\n",
       "      <th>121</th>\n",
       "      <td>-38.5323</td>\n",
       "      <td>-32.5468</td>\n",
       "      <td>환희</td>\n",
       "      <td>a</td>\n",
       "    </tr>\n",
       "    <tr>\n",
       "      <th>122</th>\n",
       "      <td>-59.9446</td>\n",
       "      <td>3.5453</td>\n",
       "      <td>황인욱</td>\n",
       "      <td>a</td>\n",
       "    </tr>\n",
       "  </tbody>\n",
       "</table>\n",
       "</div>"
      ],
      "text/plain": [
       "         pc1        pc2 singer cluster\n",
       "2   -73.0192   -15.9377  Crush       a\n",
       "7   -30.6701   -29.4859     거미       a\n",
       "13  -48.7672   -21.0268    김범수       a\n",
       "14  -27.0337   -9.92052    김연우       a\n",
       "18  -44.1946   -32.9843    김조한       a\n",
       "20  -42.6453 -0.0801593    김태우       a\n",
       "26  -53.6777   0.302432   럼블피쉬       a\n",
       "28  -71.0867    7.28028      린       a\n",
       "32  -32.5407   -3.25566    바비킴       a\n",
       "51  -31.6462    1.30757    성시경       a\n",
       "52  -26.1695   -13.8815     세정       a\n",
       "57  -73.0992   -12.6367    신승훈       a\n",
       "59  -70.1327   -12.9604    신용재       a\n",
       "63  -80.6253   -4.63053     양파       a\n",
       "64  -53.5159    1.02433    에디킴       a\n",
       "67  -19.7852   -15.2555     윤건       a\n",
       "79    -29.93   -29.5008    이예준       a\n",
       "85   -26.905   -25.3693    이해리       a\n",
       "89  -42.1665   -24.2808    임재현       a\n",
       "92  -56.2178   -20.4888    잔나비       a\n",
       "106  -45.144    -41.912     지나       a\n",
       "109 -48.7749    -10.493    진민호       a\n",
       "110 -50.6867   -31.4769     찬열       a\n",
       "111 -40.8867   -2.61424     창모       a\n",
       "112 -30.6287  -0.981492     태연       a\n",
       "115 -30.3521   -7.28878     폴킴       a\n",
       "116 -26.0892   -10.1936    하동균       a\n",
       "121 -38.5323   -32.5468     환희       a\n",
       "122 -59.9446     3.5453    황인욱       a"
      ]
     },
     "execution_count": 7,
     "metadata": {},
     "output_type": "execute_result"
    },
    {
     "data": {
      "image/png": "[encoded data removed]",
      "text/plain": [
       "<Figure size 432x288 with 1 Axes>"
      ]
     },
     "metadata": {
      "needs_background": "light"
     },
     "output_type": "display_data"
    }
   ],
   "source": [
    "from sklearn.preprocessing import StandardScaler\n",
    "import numpy as np\n",
    "\n",
    "\n",
    "#PCA\n",
    "from sklearn.decomposition import PCA\n",
    "pca = PCA(n_components=2)\n",
    "pc = pca.fit_transform(scaled_X)\n",
    "new = np.c_[pc,name, predict]\n",
    "df  = pd.DataFrame(new,columns=['pc1','pc2','singer','cluster'])\n",
    "print(df)\n",
    "\n",
    "#polting\n",
    "import seaborn as sns\n",
    "sns.scatterplot(x='pc1',y='pc2',hue = 'cluster',data =df)\n",
    "plt.savefig('fig3.png', dpi=300)\n",
    "df[df['cluster']=='a']"
   ]
  },
  {
   "cell_type": "markdown",
   "metadata": {},
   "source": [
    "## 3차원에서 보았을 떄"
   ]
  },
  {
   "cell_type": "code",
   "execution_count": 30,
   "metadata": {},
   "outputs": [
    {
     "name": "stdout",
     "output_type": "stream",
     "text": [
      "          pc1       pc2        pc3  singer cluster\n",
      "0     1.64233     4.053  0.0116876    10cm       d\n",
      "1     -3.1049   1.48548 -0.0813655    Buzz       c\n",
      "2   -0.173918  -1.57179  -0.477352   Crush       e\n",
      "3    -1.58231  0.584262   0.883666  K.Will       f\n",
      "4    -2.26485 -0.502802    1.26135     KCM       f\n",
      "..        ...       ...        ...     ...     ...\n",
      "121  -2.97546  -1.01482    1.96376      환희       c\n",
      "122  0.976548  -1.61079   0.201313     황인욱       e\n",
      "123   1.28211  -1.08928  -0.942743      효린       e\n",
      "124 -0.953835 -0.166191    1.82922      휘성       f\n",
      "125  -2.07434    2.2191   -3.27581      휘인       b\n",
      "\n",
      "[126 rows x 5 columns]\n"
     ]
    },
    {
     "data": {
      "image/png": "[encoded data removed]",
      "text/plain": [
       "<Figure size 720x360 with 1 Axes>"
      ]
     },
     "metadata": {
      "needs_background": "light"
     },
     "output_type": "display_data"
    }
   ],
   "source": [
    "from sklearn.preprocessing import StandardScaler\n",
    "import numpy as np\n",
    "\n",
    "\n",
    "#PCA\n",
    "from sklearn.decomposition import PCA\n",
    "pca = PCA(n_components=3)\n",
    "pc = pca.fit_transform(scaled_X)\n",
    "new = np.c_[pc,name, predict]\n",
    "df  = pd.DataFrame(new,columns=['pc1','pc2','pc3','singer','cluster'])\n",
    "print(df)\n",
    "\n",
    "#polting\n",
    "from mpl_toolkits.mplot3d import Axes3D\n",
    "import matplotlib.pyplot as plt\n",
    "fig = plt.figure(figsize=(10, 5))\n",
    "ax = fig.add_subplot(111, projection='3d') \n",
    "\n",
    "for i in string:\n",
    "    temp = df[df['cluster'] ==i] \n",
    "    ax.scatter(temp['pc1'],temp['pc2'],temp['pc3'])\n",
    "plt.savefig('fig4.png', dpi=300)\n",
    "\n",
    "\n"
   ]
  }
 ],
 "metadata": {
  "kernelspec": {
   "display_name": "cuda",
   "language": "python",
   "name": "cuda"
  },
  "language_info": {
   "codemirror_mode": {
    "name": "ipython",
    "version": 3
   },
   "file_extension": ".py",
   "mimetype": "text/x-python",
   "name": "python",
   "nbconvert_exporter": "python",
   "pygments_lexer": "ipython3",
   "version": "3.5.6"
  }
 },
 "nbformat": 4,
 "nbformat_minor": 4
}
