{
 "cells": [
  {
   "cell_type": "markdown",
   "metadata": {},
   "source": [
    "# data load"
   ]
  },
  {
   "cell_type": "code",
   "execution_count": 78,
   "metadata": {},
   "outputs": [
    {
     "name": "stdout",
     "output_type": "stream",
     "text": [
      "[[-433.08963112 -427.09716201 -412.3403501  ...   -9.35074932\n",
      "   -12.65299636   -9.37304958]\n",
      " [-292.80556927 -286.82925949 -294.08002594 ...   10.11966571\n",
      "     7.60417296    5.66313308]\n",
      " [-402.00670746 -379.15618944 -346.8464879  ...   27.81986429\n",
      "    22.57617986   13.50105067]\n",
      " ...\n",
      " [-424.90479609 -416.24115942 -405.02232115 ...   35.78577191\n",
      "    39.22160974   28.01107229]\n",
      " [-146.67593008  -96.64004764  -63.01583943 ...   -0.9838669\n",
      "     1.17957637    0.50246968]\n",
      " [-269.28249665 -256.58016883 -240.0789487  ...    5.75756209\n",
      "    11.50294759   14.46294348]]\n"
     ]
    }
   ],
   "source": [
    "import pandas as pd\n",
    "import numpy as np\n",
    "import matplotlib.pyplot as plt\n",
    "import seaborn as sns\n",
    "\n",
    "import warnings\n",
    "warnings.filterwarnings(\"ignore\")\n",
    "\n",
    "data = pd.read_csv('./data.csv', encoding='euc-kr',index_col=0)\n",
    "name = data.index\n",
    "X = np.array(data)\n",
    "print(X)"
   ]
  },
  {
   "cell_type": "markdown",
   "metadata": {},
   "source": [
    "# subsampling 가능성 확인"
   ]
  },
  {
   "cell_type": "code",
   "execution_count": null,
   "metadata": {},
   "outputs": [],
   "source": [
    "#자기상관 확인\n",
    "import matplotlib.pyplot as plt\n",
    "plt.plot(X_train[0][:200], 'o-')\n",
    "plt.show()\n",
    "from statsmodels.graphics.tsaplots import plot_acf, plot_pacf\n",
    "plot_acf(X_train[0][:200])\n",
    "plt.show()"
   ]
  },
  {
   "cell_type": "code",
   "execution_count": null,
   "metadata": {},
   "outputs": [],
   "source": [
    "# reshape 해서 20장 만든 다음에 클래스별 표본 20개해서 120개 클래스에 대해서 판별분석???\n",
    "#1장씩 따로 차원 축소 한 뒤, 다시 붙인다."
   ]
  },
  {
   "cell_type": "code",
   "execution_count": null,
   "metadata": {},
   "outputs": [],
   "source": [
    "51760/20"
   ]
  },
  {
   "cell_type": "code",
   "execution_count": 81,
   "metadata": {},
   "outputs": [
    {
     "data": {
      "text/plain": [
       "(2520, 2588)"
      ]
     },
     "execution_count": 81,
     "metadata": {},
     "output_type": "execute_result"
    }
   ],
   "source": [
    "X = X.reshape(20*126,2588)\n",
    "X.shape"
   ]
  },
  {
   "cell_type": "markdown",
   "metadata": {},
   "source": [
    "# scaling\n",
    "스케일링 이후 벡터간 동질성 감소, 분류에 좋다."
   ]
  },
  {
   "cell_type": "code",
   "execution_count": 82,
   "metadata": {},
   "outputs": [
    {
     "data": {
      "text/plain": [
       "(2520, 2588)"
      ]
     },
     "execution_count": 82,
     "metadata": {},
     "output_type": "execute_result"
    }
   ],
   "source": [
    "from sklearn.preprocessing import StandardScaler\n",
    "scale = StandardScaler()\n",
    "scale.fit(X)\n",
    "scaled_X = scale.transform(X)\n",
    "X_train = scaled_X\n",
    "X_test = scaled_X\n",
    "scaled_X.shape"
   ]
  },
  {
   "cell_type": "markdown",
   "metadata": {},
   "source": [
    "# AE 학습"
   ]
  },
  {
   "cell_type": "code",
   "execution_count": null,
   "metadata": {},
   "outputs": [],
   "source": [
    "from tensorflow.python.keras.layers import Input, Dense\n",
    "from tensorflow.python.keras.models import Model\n",
    "from tensorflow.python.keras import backend as K\n",
    "\n",
    "# configure\n",
    "encoding_dim = 400\n",
    "input_val = Input(shape=(2588,))\n",
    "\n",
    "\n",
    "# layers\n",
    "encoded = Dense(encoding_dim, activation='relu')(input_val)\n",
    "decoded = Dense(2588, activation='sigmoid')(encoded)\n",
    "\n",
    "\n",
    "# Models\n",
    "autoencoder = Model(input_val, decoded) # autoencoder\n",
    "\n",
    "encoder = Model(input_val, encoded) # encoder\n",
    "\n",
    "encoded_input = Input(shape=(encoding_dim,))\n",
    "decoder_layer = autoencoder.layers[-1]\n",
    "decoder = Model(encoded_input, decoder_layer(encoded_input)) # decoder"
   ]
  },
  {
   "cell_type": "code",
   "execution_count": null,
   "metadata": {},
   "outputs": [],
   "source": [
    "\n",
    "def rmse(y_true, y_pred):\n",
    "    return K.sqrt(K.mean(K.square(y_pred - y_true), axis=-1))\n",
    "\n",
    "\n",
    "# train autoencoder\n",
    "autoencoder.compile(optimizer='adam', loss='mse', metrics=[rmse])\n",
    "autoencoder.fit(X, X,\n",
    "                epochs=10,\n",
    "                batch_size=10,\n",
    "                shuffle=True)\n",
    "\n",
    "\n",
    "# encoding result\n",
    "encoded_imgs = encoder.predict(X)"
   ]
  },
  {
   "cell_type": "code",
   "execution_count": null,
   "metadata": {},
   "outputs": [],
   "source": [
    "df=pd.DataFrame(encoded_imgs)"
   ]
  },
  {
   "cell_type": "code",
   "execution_count": null,
   "metadata": {},
   "outputs": [],
   "source": [
    "# 20개 피쳐에서 클러스터링 가능여부"
   ]
  },
  {
   "cell_type": "code",
   "execution_count": 84,
   "metadata": {},
   "outputs": [],
   "source": [
    "df = list(map(lambda x : np.mean(x),scaled_X))\n",
    "df = np.array(df)\n",
    "df = df.reshape(int(2520/20),20)"
   ]
  },
  {
   "cell_type": "code",
   "execution_count": 85,
   "metadata": {},
   "outputs": [
    {
     "data": {
      "image/png": "[encoded data removed]",
      "text/plain": [
       "<Figure size 432x288 with 1 Axes>"
      ]
     },
     "metadata": {
      "needs_background": "light"
     },
     "output_type": "display_data"
    }
   ],
   "source": [
    "from sklearn.cluster import KMeans\n",
    "import matplotlib.pyplot  as plt\n",
    "def elbow(X):\n",
    "    sse = []\n",
    "\n",
    "    for i in range(1,11):\n",
    "        km = KMeans(n_clusters=i,algorithm='auto', random_state=42)\n",
    "        km.fit(X)\n",
    "        sse.append(km.inertia_)\n",
    "\n",
    "    plt.plot(range(1,11), sse, marker='o')\n",
    "    plt.xlabel('K')\n",
    "    plt.ylabel('SSE')\n",
    "    plt.savefig('fig.png', dpi=300)\n",
    "    plt.show()\n",
    "    \n",
    "\n",
    "elbow(df)\n"
   ]
  },
  {
   "cell_type": "code",
   "execution_count": 89,
   "metadata": {},
   "outputs": [
    {
     "name": "stdout",
     "output_type": "stream",
     "text": [
      "     predict\n",
      "0          1\n",
      "1          0\n",
      "2          0\n",
      "3          1\n",
      "4          0\n",
      "..       ...\n",
      "121        0\n",
      "122        0\n",
      "123        1\n",
      "124        1\n",
      "125        0\n",
      "\n",
      "[126 rows x 1 columns]\n",
      "1번째 군집은 78개\n",
      "2번째 군집은 48개\n"
     ]
    }
   ],
   "source": [
    "from sklearn.cluster import KMeans\n",
    "import matplotlib.pyplot  as plt\n",
    "\n",
    "k = 2\n",
    "# create model and prediction\n",
    "model = KMeans(n_clusters=k,algorithm='auto')\n",
    "model.fit(df)\n",
    "predict = pd.DataFrame(model.predict(df))\n",
    "predict.columns=['predict']\n",
    "\n",
    "print(predict)\n",
    "count=[]\n",
    "for i in range(k):\n",
    "    count.append(sum(predict['predict']==i))\n",
    "\n",
    "string = 'abcdefghijklmnopqr'\n",
    "    \n",
    "for i in range(k):\n",
    "    print('{}번째 군집은 {}개'.format(i+1,count[i]))\n",
    "    predict['predict'] = predict['predict'].replace(i,string[i])"
   ]
  },
  {
   "cell_type": "code",
   "execution_count": 90,
   "metadata": {},
   "outputs": [
    {
     "name": "stdout",
     "output_type": "stream",
     "text": [
      "            pc1        pc2  singer cluster\n",
      "0     -0.283157  -0.374065    10cm       b\n",
      "1      0.318027  -0.324613    Buzz       a\n",
      "2    -0.0150099  0.0424891   Crush       a\n",
      "3       -1.1709   0.367198  K.Will       b\n",
      "4      0.905214 -0.0711134     KCM       a\n",
      "..          ...        ...     ...     ...\n",
      "121   -0.101904 -0.0876366      환희       a\n",
      "122     0.12714  -0.107577     황인욱       a\n",
      "123   -0.534678  -0.176481      효린       b\n",
      "124   -0.906513   0.431965      휘성       b\n",
      "125 -0.00815434  -0.639354      휘인       a\n",
      "\n",
      "[126 rows x 4 columns]\n"
     ]
    },
    {
     "data": {
      "text/html": [
       "<div>\n",
       "<style scoped>\n",
       "    .dataframe tbody tr th:only-of-type {\n",
       "        vertical-align: middle;\n",
       "    }\n",
       "\n",
       "    .dataframe tbody tr th {\n",
       "        vertical-align: top;\n",
       "    }\n",
       "\n",
       "    .dataframe thead th {\n",
       "        text-align: right;\n",
       "    }\n",
       "</style>\n",
       "<table border=\"1\" class=\"dataframe\">\n",
       "  <thead>\n",
       "    <tr style=\"text-align: right;\">\n",
       "      <th></th>\n",
       "      <th>pc1</th>\n",
       "      <th>pc2</th>\n",
       "      <th>singer</th>\n",
       "      <th>cluster</th>\n",
       "    </tr>\n",
       "  </thead>\n",
       "  <tbody>\n",
       "    <tr>\n",
       "      <th>1</th>\n",
       "      <td>0.318027</td>\n",
       "      <td>-0.324613</td>\n",
       "      <td>Buzz</td>\n",
       "      <td>a</td>\n",
       "    </tr>\n",
       "    <tr>\n",
       "      <th>2</th>\n",
       "      <td>-0.0150099</td>\n",
       "      <td>0.0424891</td>\n",
       "      <td>Crush</td>\n",
       "      <td>a</td>\n",
       "    </tr>\n",
       "    <tr>\n",
       "      <th>4</th>\n",
       "      <td>0.905214</td>\n",
       "      <td>-0.0711134</td>\n",
       "      <td>KCM</td>\n",
       "      <td>a</td>\n",
       "    </tr>\n",
       "    <tr>\n",
       "      <th>5</th>\n",
       "      <td>0.24924</td>\n",
       "      <td>0.119913</td>\n",
       "      <td>Zion.T</td>\n",
       "      <td>a</td>\n",
       "    </tr>\n",
       "    <tr>\n",
       "      <th>6</th>\n",
       "      <td>1.21604</td>\n",
       "      <td>0.0238506</td>\n",
       "      <td>jk김동욱</td>\n",
       "      <td>a</td>\n",
       "    </tr>\n",
       "    <tr>\n",
       "      <th>...</th>\n",
       "      <td>...</td>\n",
       "      <td>...</td>\n",
       "      <td>...</td>\n",
       "      <td>...</td>\n",
       "    </tr>\n",
       "    <tr>\n",
       "      <th>117</th>\n",
       "      <td>0.494643</td>\n",
       "      <td>0.195313</td>\n",
       "      <td>하림</td>\n",
       "      <td>a</td>\n",
       "    </tr>\n",
       "    <tr>\n",
       "      <th>120</th>\n",
       "      <td>1.27113</td>\n",
       "      <td>0.188942</td>\n",
       "      <td>현진영</td>\n",
       "      <td>a</td>\n",
       "    </tr>\n",
       "    <tr>\n",
       "      <th>121</th>\n",
       "      <td>-0.101904</td>\n",
       "      <td>-0.0876366</td>\n",
       "      <td>환희</td>\n",
       "      <td>a</td>\n",
       "    </tr>\n",
       "    <tr>\n",
       "      <th>122</th>\n",
       "      <td>0.12714</td>\n",
       "      <td>-0.107577</td>\n",
       "      <td>황인욱</td>\n",
       "      <td>a</td>\n",
       "    </tr>\n",
       "    <tr>\n",
       "      <th>125</th>\n",
       "      <td>-0.00815434</td>\n",
       "      <td>-0.639354</td>\n",
       "      <td>휘인</td>\n",
       "      <td>a</td>\n",
       "    </tr>\n",
       "  </tbody>\n",
       "</table>\n",
       "<p>78 rows × 4 columns</p>\n",
       "</div>"
      ],
      "text/plain": [
       "            pc1        pc2  singer cluster\n",
       "1      0.318027  -0.324613    Buzz       a\n",
       "2    -0.0150099  0.0424891   Crush       a\n",
       "4      0.905214 -0.0711134     KCM       a\n",
       "5       0.24924   0.119913  Zion.T       a\n",
       "6       1.21604  0.0238506   jk김동욱       a\n",
       "..          ...        ...     ...     ...\n",
       "117    0.494643   0.195313      하림       a\n",
       "120     1.27113   0.188942     현진영       a\n",
       "121   -0.101904 -0.0876366      환희       a\n",
       "122     0.12714  -0.107577     황인욱       a\n",
       "125 -0.00815434  -0.639354      휘인       a\n",
       "\n",
       "[78 rows x 4 columns]"
      ]
     },
     "execution_count": 90,
     "metadata": {},
     "output_type": "execute_result"
    },
    {
     "data": {
      "image/png": "[encoded data removed]",
      "text/plain": [
       "<Figure size 432x288 with 1 Axes>"
      ]
     },
     "metadata": {
      "needs_background": "light"
     },
     "output_type": "display_data"
    }
   ],
   "source": [
    "from sklearn.preprocessing import StandardScaler\n",
    "import numpy as np\n",
    "\n",
    "\n",
    "#PCA\n",
    "from sklearn.decomposition import PCA\n",
    "pca = PCA(n_components=2)\n",
    "pc = pca.fit_transform(df)\n",
    "new = np.c_[pc,name, predict]\n",
    "df_1  = pd.DataFrame(new,columns=['pc1','pc2','singer','cluster'])\n",
    "print(df_1)\n",
    "\n",
    "#polting\n",
    "import seaborn as sns\n",
    "sns.scatterplot(x='pc1',y='pc2',hue = 'cluster',data =df_1)\n",
    "#plt.savefig('fig3.png', dpi=300)\n",
    "df_1[df_1['cluster']=='a']"
   ]
  },
  {
   "cell_type": "code",
   "execution_count": null,
   "metadata": {},
   "outputs": [],
   "source": []
  }
 ],
 "metadata": {
  "kernelspec": {
   "display_name": "cuda",
   "language": "python",
   "name": "cuda"
  },
  "language_info": {
   "codemirror_mode": {
    "name": "ipython",
    "version": 3
   },
   "file_extension": ".py",
   "mimetype": "text/x-python",
   "name": "python",
   "nbconvert_exporter": "python",
   "pygments_lexer": "ipython3",
   "version": "3.5.6"
  }
 },
 "nbformat": 4,
 "nbformat_minor": 4
}
