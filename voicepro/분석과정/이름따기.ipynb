{
 "cells": [
  {
   "cell_type": "code",
   "execution_count": 2,
   "metadata": {},
   "outputs": [],
   "source": [
    "import pandas as pd\n",
    "data = pd.read_csv('C:/Users/wnduq/Desktop/list_singer.csv',header=None)\n",
    "names = data[2]\n",
    "name_cut = []\n",
    "for i in names:\n",
    "    name_cut.append(i[4:])\n",
    "\n",
    "name_cut = pd.DataFrame(name_cut)    \n",
    "    \n",
    "name_cut.to_csv('C:/Users/wnduq/Desktop/singers.csv',encoding = 'euc-kr')"
   ]
  }
 ],
 "metadata": {
  "kernelspec": {
   "display_name": "Python 3",
   "language": "python",
   "name": "python3"
  },
  "language_info": {
   "codemirror_mode": {
    "name": "ipython",
    "version": 3
   },
   "file_extension": ".py",
   "mimetype": "text/x-python",
   "name": "python",
   "nbconvert_exporter": "python",
   "pygments_lexer": "ipython3",
   "version": "3.7.4"
  }
 },
 "nbformat": 4,
 "nbformat_minor": 4
}
