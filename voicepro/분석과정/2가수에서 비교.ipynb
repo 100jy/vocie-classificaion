{
 "cells": [
  {
   "cell_type": "markdown",
   "metadata": {},
   "source": [
    "# 프레임 단위로 보았을 때, 사람구별이 가능한가?"
   ]
  },
  {
   "cell_type": "code",
   "execution_count": 23,
   "metadata": {},
   "outputs": [],
   "source": [
    "#임창정\n",
    "import librosa\n",
    "x , sr_x = librosa.load('C:/Users/wnduq/Desktop/Python_code/voicepro/김범수 - 보고싶다 무반주 (역대급 라이브).mp3')\n",
    "x = x[22000*0:22000*5]\n",
    "frame_length = 0.025\n",
    "frame_stride = 0.0125\n",
    "sr = 22000\n",
    "input_nfft = int(round(sr * frame_length))\n",
    "input_stride = int(round(sr * frame_stride))\n",
    "mfcc_1 = librosa.feature.mfcc(x , sr=sr_x, n_mfcc=20, fmax=5000, n_fft=input_nfft, hop_length=input_stride)\n",
    "# 초당 40장???\n",
    "mfcc_1 = mfcc_1.T\n",
    "name_1 = ['김범수'] * len(mfcc_1)"
   ]
  },
  {
   "cell_type": "code",
   "execution_count": null,
   "metadata": {},
   "outputs": [],
   "source": [
    "발성이 바뀌는 구간 캐치?"
   ]
  },
  {
   "cell_type": "code",
   "execution_count": 30,
   "metadata": {},
   "outputs": [
    {
     "data": {
      "text/plain": [
       "(401, 20)"
      ]
     },
     "execution_count": 30,
     "metadata": {},
     "output_type": "execute_result"
    }
   ],
   "source": [
    "mfcc_1.shape"
   ]
  },
  {
   "cell_type": "code",
   "execution_count": 22,
   "metadata": {},
   "outputs": [],
   "source": [
    "#나얼\n",
    "import librosa\n",
    "x , sr_x = librosa.load('C:/Users/wnduq/Desktop/Python_code/voicepro/[나얼]  바람기억 무반주 라이브.mp3')\n",
    "x = x[22000*0:22000*5]\n",
    "frame_length = 0.025\n",
    "frame_stride = 0.0125\n",
    "sr = 22000\n",
    "input_nfft = int(round(sr * frame_length))\n",
    "input_stride = int(round(sr * frame_stride))\n",
    "mfcc_2 = librosa.feature.mfcc(x , sr=sr_x, n_mfcc=20, fmax=5000, n_fft=input_nfft, hop_length=input_stride)\n",
    "# 초당 40장???\n",
    "mfcc_2 = mfcc_2.T\n",
    "name_2 = ['나얼'] * len(mfcc_2)"
   ]
  },
  {
   "cell_type": "code",
   "execution_count": 29,
   "metadata": {},
   "outputs": [
    {
     "data": {
      "text/plain": [
       "(802, 20)"
      ]
     },
     "execution_count": 29,
     "metadata": {},
     "output_type": "execute_result"
    }
   ],
   "source": [
    "mfcc = np.concatenate([mfcc_1,mfcc_2])"
   ]
  },
  {
   "cell_type": "code",
   "execution_count": 33,
   "metadata": {},
   "outputs": [],
   "source": [
    "name = name_1 +name_2"
   ]
  },
  {
   "cell_type": "code",
   "execution_count": 31,
   "metadata": {},
   "outputs": [],
   "source": [
    "from sklearn.preprocessing import StandardScaler\n",
    "scale = StandardScaler()\n",
    "scale.fit(mfcc)\n",
    "scaled_X = scale.transform(mfcc)"
   ]
  },
  {
   "cell_type": "code",
   "execution_count": 32,
   "metadata": {},
   "outputs": [
    {
     "name": "stdout",
     "output_type": "stream",
     "text": [
      "epoch : 0, Train MSE : 1.03914\n",
      "epoch : 100, Train MSE : 0.27895\n",
      "epoch : 200, Train MSE : 0.27961\n",
      "epoch : 300, Train MSE : 0.27874\n"
     ]
    }
   ],
   "source": [
    "def shuffle_batch(X, y, batch_size):\n",
    "    rnd_idx = np.random.permutation(len(X))\n",
    "    n_batches = len(X) // batch_size\n",
    "    for batch_idx in np.array_split(rnd_idx, n_batches):\n",
    "        X_batch, y_batch = X[batch_idx], y[batch_idx]\n",
    "        yield X_batch, y_batch\n",
    "import numpy as np\n",
    "import tensorflow as tf\n",
    "from functools import partial\n",
    "\n",
    "################\n",
    "# layer params #\n",
    "################\n",
    "n_inputs = 20\n",
    "n_hidden1 = 10  # encoder\n",
    "n_hidden2 = 2  # coding units\n",
    "n_hidden3 = n_hidden1  # decoder\n",
    "n_outputs = n_inputs  # reconstruction\n",
    "\n",
    "################\n",
    "# train params #\n",
    "################\n",
    "learning_rate = 0.01\n",
    "l2_reg = 0.0001\n",
    "n_epochs = 400\n",
    "batch_size = 80\n",
    "n_batches = len(scaled_X) // batch_size\n",
    "\n",
    "# set the layers using partial\n",
    "he_init = tf.keras.initializers.he_normal()  # He 초기화\n",
    "l2_regularizer = tf.contrib.layers.l2_regularizer(scale=l2_reg)  # L2 규제\n",
    "dense_layer = partial(tf.layers.dense,\n",
    "                      activation=tf.nn.elu,\n",
    "                      kernel_initializer=he_init,\n",
    "                      kernel_regularizer=l2_regularizer)\n",
    "\n",
    "# stacked autoencoder\n",
    "inputs = tf.placeholder(tf.float32, shape=[None, n_inputs])\n",
    "\n",
    "hidden1 = dense_layer(inputs, n_hidden1)\n",
    "hidden2 = dense_layer(hidden1, n_hidden2)\n",
    "hidden3 = dense_layer(hidden2, n_hidden3)\n",
    "outputs = dense_layer(hidden3, n_outputs, activation=None)\n",
    "\n",
    "# loss\n",
    "reconstruction_loss = tf.reduce_mean(tf.square(outputs - inputs))\n",
    "reg_losses = tf.get_collection(tf.GraphKeys.REGULARIZATION_LOSSES)\n",
    "loss = tf.add_n([reconstruction_loss] + reg_losses)\n",
    "\n",
    "# optimizer\n",
    "train_op = tf.train.AdamOptimizer(learning_rate).minimize(loss)\n",
    "\n",
    "# Train\n",
    "with tf.Session() as sess:\n",
    "    tf.global_variables_initializer().run()\n",
    "    for epoch in range(n_epochs):\n",
    "        for iteration in range(n_batches):\n",
    "            X_batch, y_batch = next(shuffle_batch(scaled_X, scaled_X, batch_size))\n",
    "            sess.run(train_op, feed_dict={inputs: X_batch})\n",
    "        loss_train = reconstruction_loss.eval(feed_dict={inputs: X_batch})\n",
    "        if epoch % 100 ==0:\n",
    "            print('epoch : {}, Train MSE : {:.5f}'.format(epoch, loss_train))\n",
    "    x_2dim = hidden2.eval(feed_dict={inputs: scaled_X})        "
   ]
  },
  {
   "cell_type": "code",
   "execution_count": 40,
   "metadata": {},
   "outputs": [
    {
     "data": {
      "text/plain": [
       "<matplotlib.axes._subplots.AxesSubplot at 0x1ed03e59898>"
      ]
     },
     "execution_count": 40,
     "metadata": {},
     "output_type": "execute_result"
    },
    {
     "data": {
      "image/png": "[encoded data removed]",
      "text/plain": [
       "<Figure size 432x288 with 1 Axes>"
      ]
     },
     "metadata": {
      "needs_background": "light"
     },
     "output_type": "display_data"
    }
   ],
   "source": [
    "#PCA\n",
    "import pandas as pd\n",
    "from sklearn.decomposition import PCA\n",
    "new = np.c_[x_2dim, name]\n",
    "df  = pd.DataFrame(new,columns=['dim1','dim2','singer'])\n",
    "\n",
    "#polting\n",
    "import seaborn as sns\n",
    "sns.scatterplot(x='dim1',y='dim2',hue = 'singer',data =df.iloc[:20,:])"
   ]
  },
  {
   "cell_type": "code",
   "execution_count": 37,
   "metadata": {},
   "outputs": [
    {
     "data": {
      "text/html": [
       "<div>\n",
       "<style scoped>\n",
       "    .dataframe tbody tr th:only-of-type {\n",
       "        vertical-align: middle;\n",
       "    }\n",
       "\n",
       "    .dataframe tbody tr th {\n",
       "        vertical-align: top;\n",
       "    }\n",
       "\n",
       "    .dataframe thead th {\n",
       "        text-align: right;\n",
       "    }\n",
       "</style>\n",
       "<table border=\"1\" class=\"dataframe\">\n",
       "  <thead>\n",
       "    <tr style=\"text-align: right;\">\n",
       "      <th></th>\n",
       "      <th>dim1</th>\n",
       "      <th>dim1</th>\n",
       "      <th>singer</th>\n",
       "    </tr>\n",
       "  </thead>\n",
       "  <tbody>\n",
       "    <tr>\n",
       "      <th>0</th>\n",
       "      <td>6.6249037</td>\n",
       "      <td>4.5676064</td>\n",
       "      <td>김범수</td>\n",
       "    </tr>\n",
       "    <tr>\n",
       "      <th>1</th>\n",
       "      <td>6.6249037</td>\n",
       "      <td>4.5676064</td>\n",
       "      <td>김범수</td>\n",
       "    </tr>\n",
       "    <tr>\n",
       "      <th>2</th>\n",
       "      <td>6.6249037</td>\n",
       "      <td>4.5676064</td>\n",
       "      <td>김범수</td>\n",
       "    </tr>\n",
       "    <tr>\n",
       "      <th>3</th>\n",
       "      <td>6.6249037</td>\n",
       "      <td>4.5676064</td>\n",
       "      <td>김범수</td>\n",
       "    </tr>\n",
       "    <tr>\n",
       "      <th>4</th>\n",
       "      <td>6.6249037</td>\n",
       "      <td>4.5676064</td>\n",
       "      <td>김범수</td>\n",
       "    </tr>\n",
       "    <tr>\n",
       "      <th>5</th>\n",
       "      <td>6.6249037</td>\n",
       "      <td>4.5676064</td>\n",
       "      <td>김범수</td>\n",
       "    </tr>\n",
       "    <tr>\n",
       "      <th>6</th>\n",
       "      <td>6.6249037</td>\n",
       "      <td>4.5676064</td>\n",
       "      <td>김범수</td>\n",
       "    </tr>\n",
       "    <tr>\n",
       "      <th>7</th>\n",
       "      <td>6.6249037</td>\n",
       "      <td>4.5676064</td>\n",
       "      <td>김범수</td>\n",
       "    </tr>\n",
       "    <tr>\n",
       "      <th>8</th>\n",
       "      <td>6.6116657</td>\n",
       "      <td>4.555325</td>\n",
       "      <td>김범수</td>\n",
       "    </tr>\n",
       "    <tr>\n",
       "      <th>9</th>\n",
       "      <td>6.5432677</td>\n",
       "      <td>4.152428</td>\n",
       "      <td>김범수</td>\n",
       "    </tr>\n",
       "  </tbody>\n",
       "</table>\n",
       "</div>"
      ],
      "text/plain": [
       "        dim1       dim1 singer\n",
       "0  6.6249037  4.5676064    김범수\n",
       "1  6.6249037  4.5676064    김범수\n",
       "2  6.6249037  4.5676064    김범수\n",
       "3  6.6249037  4.5676064    김범수\n",
       "4  6.6249037  4.5676064    김범수\n",
       "5  6.6249037  4.5676064    김범수\n",
       "6  6.6249037  4.5676064    김범수\n",
       "7  6.6249037  4.5676064    김범수\n",
       "8  6.6116657   4.555325    김범수\n",
       "9  6.5432677   4.152428    김범수"
      ]
     },
     "execution_count": 37,
     "metadata": {},
     "output_type": "execute_result"
    }
   ],
   "source": [
    "df.iloc[:10,:]"
   ]
  }
 ],
 "metadata": {
  "kernelspec": {
   "display_name": "cuda",
   "language": "python",
   "name": "cuda"
  },
  "language_info": {
   "codemirror_mode": {
    "name": "ipython",
    "version": 3
   },
   "file_extension": ".py",
   "mimetype": "text/x-python",
   "name": "python",
   "nbconvert_exporter": "python",
   "pygments_lexer": "ipython3",
   "version": "3.5.6"
  }
 },
 "nbformat": 4,
 "nbformat_minor": 4
}
