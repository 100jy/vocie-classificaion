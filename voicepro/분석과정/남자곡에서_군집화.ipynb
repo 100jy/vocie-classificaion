{
 "cells": [
  {
   "cell_type": "code",
   "execution_count": 2,
   "metadata": {},
   "outputs": [],
   "source": [
    "import librosa\n",
    "import matplotlib.pyplot as plt\n",
    "import librosa.display\n",
    "import numpy as np\n",
    "import pandas as pd"
   ]
  },
  {
   "cell_type": "markdown",
   "metadata": {},
   "source": [
    "# 30초간격으로 같은 가수에서 3개씩 뽑기\n",
    "# 30초에 MFCC 뽑은다음 평균 매기기"
   ]
  },
  {
   "cell_type": "code",
   "execution_count": 13,
   "metadata": {},
   "outputs": [],
   "source": [
    "local_path='C:/Users/wnduq/Desktop/output_music/{}.wav_vocals_vad.wav'\n",
    "vocal = ['10cm','폴킴','멜로망스','이수','김필','장범준','박효신','Zion.T','잔나비','K.Will']\n",
    "\n",
    "X = [] #feature저장\n",
    "\n",
    "for i in range(10):\n",
    "    song = local_path.format(vocal[i])\n",
    "    x , sr_x = librosa.load(song)\n",
    "    x_1, x_2, x_3 = [x[:20000*30], x[20000*30:20000*30*2],x[20000*30*2:20000*30*3]] \n",
    "    for j in [x_1, x_2, x_3]:\n",
    "        mfcc = librosa.feature.mfcc(j,sr=sr_x,n_mels=50, fmax=5000)\n",
    "        mfcc_mean = list(map(lambda x: np.mean(x),mfcc))\n",
    "        X.append(mfcc_mean + [vocal[i]])"
   ]
  },
  {
   "cell_type": "code",
   "execution_count": 14,
   "metadata": {},
   "outputs": [
    {
     "data": {
      "text/plain": [
       "(30, 20)"
      ]
     },
     "execution_count": 14,
     "metadata": {},
     "output_type": "execute_result"
    }
   ],
   "source": [
    "X = np.array(X)\n",
    "X.shape\n",
    "df = pd.DataFrame(X)\n",
    "singers = df.iloc[:,20]\n",
    "df = df.iloc[:,:20]\n",
    "df.shape"
   ]
  },
  {
   "cell_type": "markdown",
   "metadata": {},
   "source": [
    "# 22차원 데이터 군집화"
   ]
  },
  {
   "cell_type": "code",
   "execution_count": 15,
   "metadata": {},
   "outputs": [],
   "source": [
    "from sklearn.preprocessing import StandardScaler\n",
    "scale = StandardScaler()\n",
    "scale.fit(df)\n",
    "scaled_X = scale.transform(df)"
   ]
  },
  {
   "cell_type": "code",
   "execution_count": 16,
   "metadata": {},
   "outputs": [
    {
     "name": "stdout",
     "output_type": "stream",
     "text": [
      "    predict\n",
      "0         0\n",
      "1         0\n",
      "2         2\n",
      "3         1\n",
      "4         1\n",
      "5         0\n",
      "6         0\n",
      "7         0\n",
      "8         0\n",
      "9         1\n",
      "10        2\n",
      "11        0\n",
      "12        1\n",
      "13        1\n",
      "14        0\n",
      "15        2\n",
      "16        2\n",
      "17        2\n",
      "18        1\n",
      "19        0\n",
      "20        0\n",
      "21        2\n",
      "22        2\n",
      "23        2\n",
      "24        1\n",
      "25        0\n",
      "26        0\n",
      "27        0\n",
      "28        0\n",
      "29        0\n",
      "1번째 군집은 15개\n",
      "2번째 군집은 7개\n",
      "3번째 군집은 8개\n"
     ]
    }
   ],
   "source": [
    "from sklearn.cluster import KMeans\n",
    "import matplotlib.pyplot  as plt\n",
    "\n",
    "k = 3\n",
    "# create model and prediction\n",
    "model = KMeans(n_clusters=k,algorithm='auto')\n",
    "model.fit(scaled_X)\n",
    "predict = pd.DataFrame(model.predict(scaled_X))\n",
    "predict.columns=['predict']\n",
    "\n",
    "print(predict)\n",
    "count=[]\n",
    "for i in range(k):\n",
    "    count.append(sum(predict['predict']==i))\n",
    "\n",
    "string = 'abcdefg'\n",
    "    \n",
    "for i in range(k):\n",
    "    print('{}번째 군집은 {}개'.format(i+1,count[i]))\n",
    "    predict['predict'] = predict['predict'].replace(i,string[i])"
   ]
  },
  {
   "cell_type": "code",
   "execution_count": 17,
   "metadata": {},
   "outputs": [
    {
     "name": "stdout",
     "output_type": "stream",
     "text": [
      "          pc1         pc2  singer cluster\n",
      "0    -3.83769    -1.86813    10cm       a\n",
      "1    -2.71538    -0.70498    10cm       a\n",
      "2    -1.75017    -3.01334    10cm       c\n",
      "3     5.75546  0.00124363      폴킴       b\n",
      "4     4.95383  -0.0481807      폴킴       b\n",
      "5    -1.88915     2.03201      폴킴       a\n",
      "6      -1.939     3.08016    멜로망스       a\n",
      "7    -4.38148     1.95034    멜로망스       a\n",
      "8    -2.47667     1.61239    멜로망스       a\n",
      "9     3.47473    0.763082      이수       b\n",
      "10  -0.102647    -1.33044      이수       c\n",
      "11   -3.80959    -2.77083      이수       a\n",
      "12    2.96778    0.376511      김필       b\n",
      "13    2.72733     2.40156      김필       b\n",
      "14   -1.06405     1.08881      김필       a\n",
      "15  0.0426296   -0.121552     장범준       c\n",
      "16   -1.45867    -2.03848     장범준       c\n",
      "17  -0.854077    -3.04134     장범준       c\n",
      "18    5.70172   -0.817634     박효신       b\n",
      "19   -1.23115   0.0518699     박효신       a\n",
      "20   0.372428     1.06109     박효신       a\n",
      "21    1.85822    -3.02694  Zion.T       c\n",
      "22    1.24111    -2.25752  Zion.T       c\n",
      "23    1.25633    -2.36931  Zion.T       c\n",
      "24    1.74003     2.79521     잔나비       b\n",
      "25  -0.157719     1.19053     잔나비       a\n",
      "26  -0.980318    0.836463     잔나비       a\n",
      "27   0.473561     1.37829  K.Will       a\n",
      "28   -4.13058     1.51109  K.Will       a\n",
      "29   0.213175     1.27804  K.Will       a\n"
     ]
    },
    {
     "data": {
      "text/html": [
       "<div>\n",
       "<style scoped>\n",
       "    .dataframe tbody tr th:only-of-type {\n",
       "        vertical-align: middle;\n",
       "    }\n",
       "\n",
       "    .dataframe tbody tr th {\n",
       "        vertical-align: top;\n",
       "    }\n",
       "\n",
       "    .dataframe thead th {\n",
       "        text-align: right;\n",
       "    }\n",
       "</style>\n",
       "<table border=\"1\" class=\"dataframe\">\n",
       "  <thead>\n",
       "    <tr style=\"text-align: right;\">\n",
       "      <th></th>\n",
       "      <th>pc1</th>\n",
       "      <th>pc2</th>\n",
       "      <th>singer</th>\n",
       "      <th>cluster</th>\n",
       "    </tr>\n",
       "  </thead>\n",
       "  <tbody>\n",
       "  </tbody>\n",
       "</table>\n",
       "</div>"
      ],
      "text/plain": [
       "Empty DataFrame\n",
       "Columns: [pc1, pc2, singer, cluster]\n",
       "Index: []"
      ]
     },
     "execution_count": 17,
     "metadata": {},
     "output_type": "execute_result"
    },
    {
     "data": {
      "image/png": "[encoded data removed]",
      "text/plain": [
       "<Figure size 432x288 with 1 Axes>"
      ]
     },
     "metadata": {
      "needs_background": "light"
     },
     "output_type": "display_data"
    }
   ],
   "source": [
    "#PCA\n",
    "from sklearn.decomposition import PCA\n",
    "pca = PCA(n_components=2)\n",
    "pc = pca.fit_transform(scaled_X)\n",
    "new = np.c_[pc,singers, predict]\n",
    "df  = pd.DataFrame(new,columns=['pc1','pc2','singer','cluster'])\n",
    "print(df)\n",
    "\n",
    "#polting\n",
    "import seaborn as sns\n",
    "sns.scatterplot(x='pc1',y='pc2',hue = 'cluster',data =df)\n",
    "#plt.savefig('fig3.png', dpi=300)\n",
    "df[df['cluster']=='d']"
   ]
  },
  {
   "cell_type": "markdown",
   "metadata": {},
   "source": [
    "# 5초 단위로 평균 매기면??"
   ]
  },
  {
   "cell_type": "code",
   "execution_count": 143,
   "metadata": {},
   "outputs": [],
   "source": [
    "local_path='C:/Users/wnduq/Desktop/output_music/{}.wav_vocals_vad.wav'\n",
    "vocal = ['Crush','10cm','이승기','폴킴','테이','환희','KCM','김동률','김연우','멜로망스']\n",
    "#vocal_eng = ['Crush','10cm','lee-sung-gi','lee-hong-gi','tei','hawn-hui']\n",
    "\n",
    "X = [] #feature저장\n",
    "\n",
    "for i in range(len(vocal)):\n",
    "    song = local_path.format(vocal[i])\n",
    "    x , sr_x = librosa.load(song)\n",
    "    x_arr=[]\n",
    "    \n",
    "    for k in range(15):\n",
    "        x_arr.append(x[20000*5*k:20000*5*(k+1)])\n",
    "    \n",
    "    for j in x_arr:\n",
    "        mfcc = librosa.feature.mfcc(j,sr=sr_x,n_mels=100, fmax=5000)\n",
    "        # n_mel도 중요한 파라미터인듯...\n",
    "        mfcc_mean = list(map(lambda x: np.mean(x),mfcc))\n",
    "        X.append(mfcc_mean + [vocal[i]])"
   ]
  },
  {
   "cell_type": "code",
   "execution_count": 144,
   "metadata": {},
   "outputs": [
    {
     "data": {
      "text/plain": [
       "(150, 20)"
      ]
     },
     "execution_count": 144,
     "metadata": {},
     "output_type": "execute_result"
    }
   ],
   "source": [
    "X = np.array(X)\n",
    "X.shape\n",
    "df = pd.DataFrame(X)\n",
    "singers = df.iloc[:,20]\n",
    "df = df.iloc[:,:20]\n",
    "df.shape"
   ]
  },
  {
   "cell_type": "code",
   "execution_count": 145,
   "metadata": {},
   "outputs": [],
   "source": [
    "from sklearn.preprocessing import StandardScaler\n",
    "scale = StandardScaler()\n",
    "scale.fit(df)\n",
    "scaled_X = scale.transform(df)"
   ]
  },
  {
   "cell_type": "code",
   "execution_count": 146,
   "metadata": {},
   "outputs": [
    {
     "name": "stdout",
     "output_type": "stream",
     "text": [
      "     predict\n",
      "0          1\n",
      "1          1\n",
      "2          1\n",
      "3          2\n",
      "4          1\n",
      "..       ...\n",
      "145        0\n",
      "146        0\n",
      "147        2\n",
      "148        1\n",
      "149        2\n",
      "\n",
      "[150 rows x 1 columns]\n",
      "1번째 군집은 19개\n",
      "2번째 군집은 67개\n",
      "3번째 군집은 64개\n"
     ]
    }
   ],
   "source": [
    "from sklearn.cluster import KMeans\n",
    "import matplotlib.pyplot  as plt\n",
    "\n",
    "k = 3\n",
    "# create model and prediction\n",
    "model = KMeans(n_clusters=k,algorithm='auto')\n",
    "model.fit(scaled_X)\n",
    "predict = pd.DataFrame(model.predict(scaled_X))\n",
    "predict.columns=['predict']\n",
    "\n",
    "print(predict)\n",
    "count=[]\n",
    "for i in range(k):\n",
    "    count.append(sum(predict['predict']==i))\n",
    "\n",
    "string = 'abcdefg'\n",
    "    \n",
    "for i in range(k):\n",
    "    print('{}번째 군집은 {}개'.format(i+1,count[i]))\n",
    "    predict['predict'] = predict['predict'].replace(i,string[i])"
   ]
  },
  {
   "cell_type": "code",
   "execution_count": 150,
   "metadata": {},
   "outputs": [
    {
     "name": "stdout",
     "output_type": "stream",
     "text": [
      "          pc1       pc2 singer cluster\n",
      "0     1.50894  0.976712  Crush       b\n",
      "1     1.91184  0.898867  Crush       b\n",
      "2     2.49708   1.50338  Crush       b\n",
      "3   -0.377294 -0.295465  Crush       c\n",
      "4     2.64573  0.542732  Crush       b\n",
      "..        ...       ...    ...     ...\n",
      "145  -2.85526   1.92609   멜로망스       a\n",
      "146  -2.98086  0.768316   멜로망스       a\n",
      "147  -2.32798  0.880377   멜로망스       c\n",
      "148   1.44567  0.719664   멜로망스       b\n",
      "149 -0.999687  -1.49501   멜로망스       c\n",
      "\n",
      "[150 rows x 4 columns]\n"
     ]
    },
    {
     "data": {
      "text/html": [
       "<div>\n",
       "<style scoped>\n",
       "    .dataframe tbody tr th:only-of-type {\n",
       "        vertical-align: middle;\n",
       "    }\n",
       "\n",
       "    .dataframe tbody tr th {\n",
       "        vertical-align: top;\n",
       "    }\n",
       "\n",
       "    .dataframe thead th {\n",
       "        text-align: right;\n",
       "    }\n",
       "</style>\n",
       "<table border=\"1\" class=\"dataframe\">\n",
       "  <thead>\n",
       "    <tr style=\"text-align: right;\">\n",
       "      <th></th>\n",
       "      <th>pc1</th>\n",
       "      <th>pc2</th>\n",
       "      <th>singer</th>\n",
       "      <th>cluster</th>\n",
       "    </tr>\n",
       "  </thead>\n",
       "  <tbody>\n",
       "    <tr>\n",
       "      <th>3</th>\n",
       "      <td>-0.377294</td>\n",
       "      <td>-0.295465</td>\n",
       "      <td>Crush</td>\n",
       "      <td>c</td>\n",
       "    </tr>\n",
       "    <tr>\n",
       "      <th>7</th>\n",
       "      <td>-1.87967</td>\n",
       "      <td>-2.59654</td>\n",
       "      <td>Crush</td>\n",
       "      <td>c</td>\n",
       "    </tr>\n",
       "    <tr>\n",
       "      <th>15</th>\n",
       "      <td>-0.392646</td>\n",
       "      <td>0.426015</td>\n",
       "      <td>10cm</td>\n",
       "      <td>c</td>\n",
       "    </tr>\n",
       "    <tr>\n",
       "      <th>17</th>\n",
       "      <td>-3.04938</td>\n",
       "      <td>-0.275031</td>\n",
       "      <td>10cm</td>\n",
       "      <td>c</td>\n",
       "    </tr>\n",
       "    <tr>\n",
       "      <th>18</th>\n",
       "      <td>-1.97371</td>\n",
       "      <td>-0.89758</td>\n",
       "      <td>10cm</td>\n",
       "      <td>c</td>\n",
       "    </tr>\n",
       "    <tr>\n",
       "      <th>...</th>\n",
       "      <td>...</td>\n",
       "      <td>...</td>\n",
       "      <td>...</td>\n",
       "      <td>...</td>\n",
       "    </tr>\n",
       "    <tr>\n",
       "      <th>140</th>\n",
       "      <td>-2.14478</td>\n",
       "      <td>-1.59705</td>\n",
       "      <td>멜로망스</td>\n",
       "      <td>c</td>\n",
       "    </tr>\n",
       "    <tr>\n",
       "      <th>141</th>\n",
       "      <td>-0.39751</td>\n",
       "      <td>-0.767438</td>\n",
       "      <td>멜로망스</td>\n",
       "      <td>c</td>\n",
       "    </tr>\n",
       "    <tr>\n",
       "      <th>142</th>\n",
       "      <td>-1.81827</td>\n",
       "      <td>-0.532258</td>\n",
       "      <td>멜로망스</td>\n",
       "      <td>c</td>\n",
       "    </tr>\n",
       "    <tr>\n",
       "      <th>147</th>\n",
       "      <td>-2.32798</td>\n",
       "      <td>0.880377</td>\n",
       "      <td>멜로망스</td>\n",
       "      <td>c</td>\n",
       "    </tr>\n",
       "    <tr>\n",
       "      <th>149</th>\n",
       "      <td>-0.999687</td>\n",
       "      <td>-1.49501</td>\n",
       "      <td>멜로망스</td>\n",
       "      <td>c</td>\n",
       "    </tr>\n",
       "  </tbody>\n",
       "</table>\n",
       "<p>64 rows × 4 columns</p>\n",
       "</div>"
      ],
      "text/plain": [
       "          pc1       pc2 singer cluster\n",
       "3   -0.377294 -0.295465  Crush       c\n",
       "7    -1.87967  -2.59654  Crush       c\n",
       "15  -0.392646  0.426015   10cm       c\n",
       "17   -3.04938 -0.275031   10cm       c\n",
       "18   -1.97371  -0.89758   10cm       c\n",
       "..        ...       ...    ...     ...\n",
       "140  -2.14478  -1.59705   멜로망스       c\n",
       "141  -0.39751 -0.767438   멜로망스       c\n",
       "142  -1.81827 -0.532258   멜로망스       c\n",
       "147  -2.32798  0.880377   멜로망스       c\n",
       "149 -0.999687  -1.49501   멜로망스       c\n",
       "\n",
       "[64 rows x 4 columns]"
      ]
     },
     "execution_count": 150,
     "metadata": {},
     "output_type": "execute_result"
    },
    {
     "data": {
      "image/png": "[encoded data removed]",
      "text/plain": [
       "<Figure size 432x288 with 1 Axes>"
      ]
     },
     "metadata": {
      "needs_background": "light"
     },
     "output_type": "display_data"
    }
   ],
   "source": [
    "#PCA\n",
    "from sklearn.decomposition import PCA\n",
    "pca = PCA(n_components=2)\n",
    "pc = pca.fit_transform(scaled_X)\n",
    "new = np.c_[pc,singers, predict]\n",
    "df  = pd.DataFrame(new,columns=['pc1','pc2','singer','cluster'])\n",
    "print(df)\n",
    "\n",
    "#polting\n",
    "import seaborn as sns\n",
    "sns.scatterplot(x='pc1',y='pc2',hue = 'cluster',data =df)\n",
    "df[df['cluster']=='c']"
   ]
  },
  {
   "cell_type": "markdown",
   "metadata": {},
   "source": [
    "# 전체곡에서는??"
   ]
  },
  {
   "cell_type": "code",
   "execution_count": 175,
   "metadata": {},
   "outputs": [],
   "source": [
    "local_path='C:/Users/wnduq/Desktop/output_music/{}.wav_vocals_vad.wav'\n",
    "vocal = ['10cm','폴킴','멜로망스','이수','김필','장범준','박효신','Zion.T','잔나비','K.Will']\n",
    "#vocal_eng = ['Crush','10cm','lee-sung-gi','lee-hong-gi','tei','hawn-hui']\n",
    "\n",
    "X = [] #feature저장\n",
    "\n",
    "for i in range(len(vocal)):\n",
    "    song = local_path.format(vocal[i])\n",
    "    x , sr_x = librosa.load(song)\n",
    "    \n",
    "    mfcc = librosa.feature.mfcc(x,sr=sr_x,n_mels=100, fmax=5000)\n",
    "    # n_mel도 중요한 파라미터인듯...\n",
    "    mfcc_mean = list(map(lambda x: np.mean(x),mfcc))\n",
    "    X.append(mfcc_mean + [vocal[i]])\n",
    "    "
   ]
  },
  {
   "cell_type": "code",
   "execution_count": 176,
   "metadata": {},
   "outputs": [
    {
     "data": {
      "text/plain": [
       "(10, 20)"
      ]
     },
     "execution_count": 176,
     "metadata": {},
     "output_type": "execute_result"
    }
   ],
   "source": [
    "X = np.array(X)\n",
    "X.shape\n",
    "df = pd.DataFrame(X)\n",
    "singers = df.iloc[:,20]\n",
    "df = df.iloc[:,:20]\n",
    "df.shape"
   ]
  },
  {
   "cell_type": "code",
   "execution_count": 177,
   "metadata": {},
   "outputs": [],
   "source": [
    "from sklearn.preprocessing import StandardScaler\n",
    "scale = StandardScaler()\n",
    "scale.fit(df)\n",
    "scaled_X = scale.transform(df)"
   ]
  },
  {
   "cell_type": "code",
   "execution_count": 195,
   "metadata": {},
   "outputs": [
    {
     "name": "stdout",
     "output_type": "stream",
     "text": [
      "   predict\n",
      "0        0\n",
      "1        0\n",
      "2        1\n",
      "3        1\n",
      "4        0\n",
      "5        2\n",
      "6        0\n",
      "7        2\n",
      "8        0\n",
      "9        1\n",
      "1번째 군집은 5개\n",
      "2번째 군집은 3개\n",
      "3번째 군집은 2개\n"
     ]
    }
   ],
   "source": [
    "from sklearn.cluster import KMeans\n",
    "import matplotlib.pyplot  as plt\n",
    "\n",
    "k = 3\n",
    "# create model and prediction\n",
    "model = KMeans(n_clusters=k,algorithm='auto')\n",
    "model.fit(scaled_X)\n",
    "predict = pd.DataFrame(model.predict(scaled_X))\n",
    "predict.columns=['predict']\n",
    "\n",
    "print(predict)\n",
    "count=[]\n",
    "for i in range(k):\n",
    "    count.append(sum(predict['predict']==i))\n",
    "\n",
    "string = 'abcdefg'\n",
    "    \n",
    "for i in range(k):\n",
    "    print('{}번째 군집은 {}개'.format(i+1,count[i]))\n",
    "    predict['predict'] = predict['predict'].replace(i,string[i])"
   ]
  },
  {
   "cell_type": "code",
   "execution_count": 205,
   "metadata": {},
   "outputs": [
    {
     "name": "stdout",
     "output_type": "stream",
     "text": [
      "        pc1       pc2  singer  cluster\n",
      "0 -0.198474   3.76975    10cm        0\n",
      "1   1.63013 -0.475619      폴킴        1\n",
      "2  -3.98524  0.431085    멜로망스        2\n",
      "3  -2.24077  -2.70639      이수        3\n",
      "4 -0.305499  0.709143      김필        1\n",
      "5   2.05806   -2.6488     장범준        4\n",
      "6  0.676514    2.3436     박효신        1\n",
      "7   4.99781 -0.300302  Zion.T        5\n",
      "8  0.168961 -0.129308     잔나비        1\n",
      "9  -2.80149  -0.99316  K.Will        2\n"
     ]
    }
   ],
   "source": [
    "from sklearn.cluster import DBSCAN\n",
    "dbscan = DBSCAN(eps=5, min_samples=1) #기본값이다.\n",
    "predict = dbscan.fit_predict(scaled_X)\n",
    "df[\"cluster\"] = predict\n",
    "print(df)"
   ]
  },
  {
   "cell_type": "code",
   "execution_count": 215,
   "metadata": {},
   "outputs": [
    {
     "name": "stdout",
     "output_type": "stream",
     "text": [
      "        pc1       pc2  singer cluster\n",
      "0 -0.198474   3.76975    10cm       0\n",
      "1   1.63013 -0.475619      폴킴       1\n",
      "2  -3.98524  0.431085    멜로망스       2\n",
      "3  -2.24077  -2.70639      이수       3\n",
      "4 -0.305499  0.709143      김필       1\n",
      "5   2.05806   -2.6488     장범준       4\n",
      "6  0.676514    2.3436     박효신       1\n",
      "7   4.99781 -0.300302  Zion.T       5\n",
      "8  0.168961 -0.129308     잔나비       1\n",
      "9  -2.80149  -0.99316  K.Will       2\n"
     ]
    },
    {
     "data": {
      "text/html": [
       "<div>\n",
       "<style scoped>\n",
       "    .dataframe tbody tr th:only-of-type {\n",
       "        vertical-align: middle;\n",
       "    }\n",
       "\n",
       "    .dataframe tbody tr th {\n",
       "        vertical-align: top;\n",
       "    }\n",
       "\n",
       "    .dataframe thead th {\n",
       "        text-align: right;\n",
       "    }\n",
       "</style>\n",
       "<table border=\"1\" class=\"dataframe\">\n",
       "  <thead>\n",
       "    <tr style=\"text-align: right;\">\n",
       "      <th></th>\n",
       "      <th>pc1</th>\n",
       "      <th>pc2</th>\n",
       "      <th>singer</th>\n",
       "      <th>cluster</th>\n",
       "    </tr>\n",
       "  </thead>\n",
       "  <tbody>\n",
       "    <tr>\n",
       "      <th>1</th>\n",
       "      <td>1.63013</td>\n",
       "      <td>-0.475619</td>\n",
       "      <td>폴킴</td>\n",
       "      <td>1</td>\n",
       "    </tr>\n",
       "    <tr>\n",
       "      <th>4</th>\n",
       "      <td>-0.305499</td>\n",
       "      <td>0.709143</td>\n",
       "      <td>김필</td>\n",
       "      <td>1</td>\n",
       "    </tr>\n",
       "    <tr>\n",
       "      <th>6</th>\n",
       "      <td>0.676514</td>\n",
       "      <td>2.3436</td>\n",
       "      <td>박효신</td>\n",
       "      <td>1</td>\n",
       "    </tr>\n",
       "    <tr>\n",
       "      <th>8</th>\n",
       "      <td>0.168961</td>\n",
       "      <td>-0.129308</td>\n",
       "      <td>잔나비</td>\n",
       "      <td>1</td>\n",
       "    </tr>\n",
       "  </tbody>\n",
       "</table>\n",
       "</div>"
      ],
      "text/plain": [
       "        pc1       pc2 singer cluster\n",
       "1   1.63013 -0.475619     폴킴       1\n",
       "4 -0.305499  0.709143     김필       1\n",
       "6  0.676514    2.3436    박효신       1\n",
       "8  0.168961 -0.129308    잔나비       1"
      ]
     },
     "execution_count": 215,
     "metadata": {},
     "output_type": "execute_result"
    },
    {
     "data": {
      "image/png": "[encoded data removed]",
      "text/plain": [
       "<Figure size 432x288 with 1 Axes>"
      ]
     },
     "metadata": {
      "needs_background": "light"
     },
     "output_type": "display_data"
    }
   ],
   "source": [
    "#PCA\n",
    "from sklearn.decomposition import PCA\n",
    "pca = PCA(n_components=2)\n",
    "pc = pca.fit_transform(scaled_X)\n",
    "new = np.c_[pc,singers, predict]\n",
    "df  = pd.DataFrame(new,columns=['pc1','pc2','singer','cluster'])\n",
    "print(df)\n",
    "\n",
    "#polting\n",
    "import seaborn as sns\n",
    "sns.scatterplot(x='pc1',y='pc2',hue = 'cluster',data =df)\n",
    "df[df['cluster']==1]"
   ]
  },
  {
   "cell_type": "markdown",
   "metadata": {},
   "source": [
    "전체평균으로 봤을 때, 가장 잘되므로 해당가수곡을 와장창 넣으면 될듯....\n",
    "곡 다 받고 받은 곡에서 새롭게 전처리해서 클러스터링 해본 뒤에\n",
    "(가수 수를 늘려서 보면 좋을듯...)\n",
    "DNN 이용해서 분류.."
   ]
  },
  {
   "cell_type": "markdown",
   "metadata": {},
   "source": [
    "# 1분.."
   ]
  },
  {
   "cell_type": "code",
   "execution_count": 3,
   "metadata": {},
   "outputs": [
    {
     "name": "stdout",
     "output_type": "stream",
     "text": [
      "    predict\n",
      "0         0\n",
      "1         0\n",
      "2         1\n",
      "3         1\n",
      "4         2\n",
      "5         2\n",
      "6         1\n",
      "7         2\n",
      "8         1\n",
      "9         1\n",
      "10        0\n",
      "11        0\n",
      "12        1\n",
      "13        1\n",
      "14        1\n",
      "15        1\n",
      "16        1\n",
      "17        1\n",
      "18        2\n",
      "19        2\n",
      "1번째 군집은 4개\n",
      "2번째 군집은 11개\n",
      "3번째 군집은 5개\n",
      "          pc1       pc2  singer cluster\n",
      "0    -3.63456   2.70036    10cm       a\n",
      "1    -2.13108   2.84359    10cm       a\n",
      "2      6.9844  -1.92762      폴킴       b\n",
      "3    0.693666 -0.528442      폴킴       b\n",
      "4    -3.90124  -2.35011    멜로망스       c\n",
      "5    -4.61341  -2.14045    멜로망스       c\n",
      "6     2.49339 -0.660945      이수       b\n",
      "7   -0.962446  0.398534      이수       c\n",
      "8     3.76201  -1.57029      김필       b\n",
      "9    0.326916  -1.01759      김필       b\n",
      "10  -0.395935   2.40413     장범준       a\n",
      "11  -0.791979   2.72448     장범준       a\n",
      "12    2.96645  0.197076     박효신       b\n",
      "13  0.0350506 -0.606762     박효신       b\n",
      "14     2.5121    2.8733  Zion.T       b\n",
      "15    2.11063   3.11473  Zion.T       b\n",
      "16    1.05222  -1.98293     잔나비       b\n",
      "17  -0.412823  -1.50374     잔나비       b\n",
      "18   -2.43682  -1.39153  K.Will       c\n",
      "19   -3.65654   -1.5758  K.Will       c\n"
     ]
    },
    {
     "data": {
      "text/html": [
       "<div>\n",
       "<style scoped>\n",
       "    .dataframe tbody tr th:only-of-type {\n",
       "        vertical-align: middle;\n",
       "    }\n",
       "\n",
       "    .dataframe tbody tr th {\n",
       "        vertical-align: top;\n",
       "    }\n",
       "\n",
       "    .dataframe thead th {\n",
       "        text-align: right;\n",
       "    }\n",
       "</style>\n",
       "<table border=\"1\" class=\"dataframe\">\n",
       "  <thead>\n",
       "    <tr style=\"text-align: right;\">\n",
       "      <th></th>\n",
       "      <th>pc1</th>\n",
       "      <th>pc2</th>\n",
       "      <th>singer</th>\n",
       "      <th>cluster</th>\n",
       "    </tr>\n",
       "  </thead>\n",
       "  <tbody>\n",
       "  </tbody>\n",
       "</table>\n",
       "</div>"
      ],
      "text/plain": [
       "Empty DataFrame\n",
       "Columns: [pc1, pc2, singer, cluster]\n",
       "Index: []"
      ]
     },
     "execution_count": 3,
     "metadata": {},
     "output_type": "execute_result"
    },
    {
     "data": {
      "image/png": "[encoded data removed]",
      "text/plain": [
       "<Figure size 432x288 with 1 Axes>"
      ]
     },
     "metadata": {
      "needs_background": "light"
     },
     "output_type": "display_data"
    }
   ],
   "source": [
    "local_path='C:/Users/wnduq/Desktop/output_music/{}.wav_vocals_vad.wav'\n",
    "vocal = ['10cm','폴킴','멜로망스','이수','김필','장범준','박효신','Zion.T','잔나비','K.Will']\n",
    "\n",
    "X = [] #feature저장\n",
    "\n",
    "for i in range(10):\n",
    "    song = local_path.format(vocal[i])\n",
    "    x , sr_x = librosa.load(song)\n",
    "    x_1, x_2 = [x[:20000*60], x[20000*30:20000*60*2]] \n",
    "    for j in [x_1, x_2]:\n",
    "        mfcc = librosa.feature.mfcc(j,sr=sr_x,n_mels=50, fmax=5000)\n",
    "        mfcc_mean = list(map(lambda x: np.mean(x),mfcc))\n",
    "        X.append(mfcc_mean + [vocal[i]])\n",
    "X = np.array(X)\n",
    "X.shape\n",
    "df = pd.DataFrame(X)\n",
    "singers = df.iloc[:,20]\n",
    "df = df.iloc[:,:20]\n",
    "df.shape\n",
    "from sklearn.preprocessing import StandardScaler\n",
    "scale = StandardScaler()\n",
    "scale.fit(df)\n",
    "scaled_X = scale.transform(df)\n",
    "from sklearn.cluster import KMeans\n",
    "import matplotlib.pyplot  as plt\n",
    "\n",
    "k = 3\n",
    "# create model and prediction\n",
    "model = KMeans(n_clusters=k,algorithm='auto')\n",
    "model.fit(scaled_X)\n",
    "predict = pd.DataFrame(model.predict(scaled_X))\n",
    "predict.columns=['predict']\n",
    "\n",
    "print(predict)\n",
    "count=[]\n",
    "for i in range(k):\n",
    "    count.append(sum(predict['predict']==i))\n",
    "\n",
    "string = 'abcdefg'\n",
    "    \n",
    "for i in range(k):\n",
    "    print('{}번째 군집은 {}개'.format(i+1,count[i]))\n",
    "    predict['predict'] = predict['predict'].replace(i,string[i])\n",
    "#PCA\n",
    "from sklearn.decomposition import PCA\n",
    "pca = PCA(n_components=2)\n",
    "pc = pca.fit_transform(scaled_X)\n",
    "new = np.c_[pc,singers, predict]\n",
    "df  = pd.DataFrame(new,columns=['pc1','pc2','singer','cluster'])\n",
    "print(df)\n",
    "\n",
    "#polting\n",
    "import seaborn as sns\n",
    "sns.scatterplot(x='pc1',y='pc2',hue = 'cluster',data =df)\n",
    "#plt.savefig('fig3.png', dpi=300)\n",
    "df[df['cluster']=='d']"
   ]
  }
 ],
 "metadata": {
  "kernelspec": {
   "display_name": "cuda",
   "language": "python",
   "name": "cuda"
  },
  "language_info": {
   "codemirror_mode": {
    "name": "ipython",
    "version": 3
   },
   "file_extension": ".py",
   "mimetype": "text/x-python",
   "name": "python",
   "nbconvert_exporter": "python",
   "pygments_lexer": "ipython3",
   "version": "3.5.6"
  }
 },
 "nbformat": 4,
 "nbformat_minor": 4
}
