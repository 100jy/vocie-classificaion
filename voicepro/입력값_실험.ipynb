{
 "cells": [
  {
   "cell_type": "code",
   "execution_count": 3,
   "metadata": {},
   "outputs": [],
   "source": [
    "import librosa\n",
    "import pandas as pd\n",
    "import numpy as np"
   ]
  },
  {
   "cell_type": "code",
   "execution_count": 56,
   "metadata": {},
   "outputs": [],
   "source": [
    "df_1 = pd.read_csv('./output_음성 004_sd.m4a.csv',encoding = 'euc-kr')\n",
    "df_2 = pd.read_csv('./output_음성 005_sd.m4a.csv',encoding = 'euc-kr')\n",
    "del df_1['Unnamed: 0']\n",
    "del df_2['Unnamed: 0']\n",
    "df_1.columns = [x for x in range(26)]\n",
    "df_2.columns = [x for x in range(26)]\n",
    "\n"
   ]
  },
  {
   "cell_type": "code",
   "execution_count": 57,
   "metadata": {},
   "outputs": [],
   "source": [
    "nameadd = pd.DataFrame(['백주엽','백원영'])"
   ]
  },
  {
   "cell_type": "code",
   "execution_count": 58,
   "metadata": {},
   "outputs": [],
   "source": [
    "import pandas as pd\n",
    "from sklearn.cluster import DBSCAN\n",
    "\n",
    "\n",
    "df = pd.read_csv('./data.csv',encoding = 'euc-kr')\n",
    "df.columns = ['singer']+[x for x in range(len(df.columns)-1)]\n",
    "name = df['singer']\n",
    "name = name.append(nameadd)\n",
    "del df['singer']\n",
    "df = pd.concat([df,df_1,df_2])"
   ]
  },
  {
   "cell_type": "code",
   "execution_count": 59,
   "metadata": {},
   "outputs": [],
   "source": [
    "from sklearn.preprocessing import StandardScaler\n",
    "scale = StandardScaler()\n",
    "scale.fit(df)\n",
    "scaled_X = scale.transform(df)"
   ]
  },
  {
   "cell_type": "code",
   "execution_count": 60,
   "metadata": {},
   "outputs": [
    {
     "name": "stdout",
     "output_type": "stream",
     "text": [
      "    predict\n",
      "0         1\n",
      "1         2\n",
      "2         5\n",
      "3         2\n",
      "4         2\n",
      "..      ...\n",
      "72        4\n",
      "73        3\n",
      "74        6\n",
      "75        4\n",
      "76        0\n",
      "\n",
      "[77 rows x 1 columns]\n",
      "1번째 군집은 9개\n",
      "2번째 군집은 11개\n",
      "3번째 군집은 15개\n",
      "4번째 군집은 9개\n",
      "5번째 군집은 13개\n",
      "6번째 군집은 11개\n",
      "7번째 군집은 9개\n"
     ]
    }
   ],
   "source": [
    "from sklearn.cluster import KMeans\n",
    "import matplotlib.pyplot  as plt\n",
    "\n",
    "k = 7\n",
    "# create model and prediction\n",
    "model = KMeans(n_clusters=k,algorithm='auto')\n",
    "model.fit(scaled_X)\n",
    "predict = pd.DataFrame(model.predict(scaled_X))\n",
    "predict.columns=['predict']\n",
    "\n",
    "print(predict)\n",
    "count=[]\n",
    "for i in range(k):\n",
    "    count.append(sum(predict['predict']==i))\n",
    "\n",
    "string = 'abcdefg'\n",
    "    \n",
    "for i in range(k):\n",
    "    print('{}번째 군집은 {}개'.format(i+1,count[i]))\n",
    "    predict['predict'] = predict['predict'].replace(i,string[i])"
   ]
  },
  {
   "cell_type": "code",
   "execution_count": 67,
   "metadata": {},
   "outputs": [
    {
     "name": "stdout",
     "output_type": "stream",
     "text": [
      "         pc1       pc2  singer cluster\n",
      "0    4.88706 -0.188658    10cm       b\n",
      "1    2.14357  -1.92238    Buzz       c\n",
      "2    1.23371  -1.69754  CHEEZE       f\n",
      "3   -2.01138  0.428449   Crush       c\n",
      "4    1.17855 -0.722152  K.Will       c\n",
      "..       ...       ...     ...     ...\n",
      "72  -1.68938 -0.589545     황인욱       e\n",
      "73  0.591314   4.45778      휘성       d\n",
      "74   3.09899  -2.89184      휘인       g\n",
      "75  -3.32475   -2.0077     백주엽       e\n",
      "76  -4.91919  0.321016     백원영       a\n",
      "\n",
      "[77 rows x 4 columns]\n"
     ]
    },
    {
     "data": {
      "text/html": [
       "<div>\n",
       "<style scoped>\n",
       "    .dataframe tbody tr th:only-of-type {\n",
       "        vertical-align: middle;\n",
       "    }\n",
       "\n",
       "    .dataframe tbody tr th {\n",
       "        vertical-align: top;\n",
       "    }\n",
       "\n",
       "    .dataframe thead th {\n",
       "        text-align: right;\n",
       "    }\n",
       "</style>\n",
       "<table border=\"1\" class=\"dataframe\">\n",
       "  <thead>\n",
       "    <tr style=\"text-align: right;\">\n",
       "      <th></th>\n",
       "      <th>pc1</th>\n",
       "      <th>pc2</th>\n",
       "      <th>singer</th>\n",
       "      <th>cluster</th>\n",
       "    </tr>\n",
       "  </thead>\n",
       "  <tbody>\n",
       "    <tr>\n",
       "      <th>9</th>\n",
       "      <td>-4.53081</td>\n",
       "      <td>0.315212</td>\n",
       "      <td>김동률</td>\n",
       "      <td>e</td>\n",
       "    </tr>\n",
       "    <tr>\n",
       "      <th>10</th>\n",
       "      <td>-2.52246</td>\n",
       "      <td>-2.48581</td>\n",
       "      <td>김범수</td>\n",
       "      <td>e</td>\n",
       "    </tr>\n",
       "    <tr>\n",
       "      <th>15</th>\n",
       "      <td>-3.22102</td>\n",
       "      <td>-1.2773</td>\n",
       "      <td>김태우</td>\n",
       "      <td>e</td>\n",
       "    </tr>\n",
       "    <tr>\n",
       "      <th>18</th>\n",
       "      <td>-2.18118</td>\n",
       "      <td>-0.0671996</td>\n",
       "      <td>더 원</td>\n",
       "      <td>e</td>\n",
       "    </tr>\n",
       "    <tr>\n",
       "      <th>26</th>\n",
       "      <td>-2.14911</td>\n",
       "      <td>-3.33577</td>\n",
       "      <td>박효신</td>\n",
       "      <td>e</td>\n",
       "    </tr>\n",
       "    <tr>\n",
       "      <th>34</th>\n",
       "      <td>-1.7647</td>\n",
       "      <td>-0.435024</td>\n",
       "      <td>성시경</td>\n",
       "      <td>e</td>\n",
       "    </tr>\n",
       "    <tr>\n",
       "      <th>42</th>\n",
       "      <td>-0.325771</td>\n",
       "      <td>0.118733</td>\n",
       "      <td>알리</td>\n",
       "      <td>e</td>\n",
       "    </tr>\n",
       "    <tr>\n",
       "      <th>54</th>\n",
       "      <td>-2.68614</td>\n",
       "      <td>-2.54483</td>\n",
       "      <td>임재현</td>\n",
       "      <td>e</td>\n",
       "    </tr>\n",
       "    <tr>\n",
       "      <th>63</th>\n",
       "      <td>-0.540317</td>\n",
       "      <td>-1.67231</td>\n",
       "      <td>진민호</td>\n",
       "      <td>e</td>\n",
       "    </tr>\n",
       "    <tr>\n",
       "      <th>66</th>\n",
       "      <td>-2.18463</td>\n",
       "      <td>0.0405853</td>\n",
       "      <td>태연</td>\n",
       "      <td>e</td>\n",
       "    </tr>\n",
       "    <tr>\n",
       "      <th>71</th>\n",
       "      <td>-2.70494</td>\n",
       "      <td>0.61169</td>\n",
       "      <td>현진영</td>\n",
       "      <td>e</td>\n",
       "    </tr>\n",
       "    <tr>\n",
       "      <th>72</th>\n",
       "      <td>-1.68938</td>\n",
       "      <td>-0.589545</td>\n",
       "      <td>황인욱</td>\n",
       "      <td>e</td>\n",
       "    </tr>\n",
       "    <tr>\n",
       "      <th>75</th>\n",
       "      <td>-3.32475</td>\n",
       "      <td>-2.0077</td>\n",
       "      <td>백주엽</td>\n",
       "      <td>e</td>\n",
       "    </tr>\n",
       "  </tbody>\n",
       "</table>\n",
       "</div>"
      ],
      "text/plain": [
       "         pc1        pc2 singer cluster\n",
       "9   -4.53081   0.315212    김동률       e\n",
       "10  -2.52246   -2.48581    김범수       e\n",
       "15  -3.22102    -1.2773    김태우       e\n",
       "18  -2.18118 -0.0671996    더 원       e\n",
       "26  -2.14911   -3.33577    박효신       e\n",
       "34   -1.7647  -0.435024    성시경       e\n",
       "42 -0.325771   0.118733     알리       e\n",
       "54  -2.68614   -2.54483    임재현       e\n",
       "63 -0.540317   -1.67231    진민호       e\n",
       "66  -2.18463  0.0405853     태연       e\n",
       "71  -2.70494    0.61169    현진영       e\n",
       "72  -1.68938  -0.589545    황인욱       e\n",
       "75  -3.32475    -2.0077    백주엽       e"
      ]
     },
     "execution_count": 67,
     "metadata": {},
     "output_type": "execute_result"
    },
    {
     "data": {
      "image/png": "[encoded data removed]",
      "text/plain": [
       "<Figure size 432x288 with 1 Axes>"
      ]
     },
     "metadata": {
      "needs_background": "light"
     },
     "output_type": "display_data"
    }
   ],
   "source": [
    "from sklearn.preprocessing import StandardScaler\n",
    "import numpy as np\n",
    "\n",
    "\n",
    "#PCA\n",
    "from sklearn.decomposition import PCA\n",
    "pca = PCA(n_components=2)\n",
    "pc = pca.fit_transform(scaled_X)\n",
    "new = np.c_[pc,name, predict]\n",
    "df  = pd.DataFrame(new,columns=['pc1','pc2','singer','cluster'])\n",
    "print(df)\n",
    "\n",
    "#polting\n",
    "import seaborn as sns\n",
    "sns.scatterplot(x='pc1',y='pc2',hue = 'cluster',data =df)\n",
    "plt.savefig('fig3.png', dpi=300)\n",
    "df[df['cluster']=='e']\n",
    "\n"
   ]
  }
 ],
 "metadata": {
  "kernelspec": {
   "display_name": "cuda",
   "language": "python",
   "name": "cuda"
  },
  "language_info": {
   "codemirror_mode": {
    "name": "ipython",
    "version": 3
   },
   "file_extension": ".py",
   "mimetype": "text/x-python",
   "name": "python",
   "nbconvert_exporter": "python",
   "pygments_lexer": "ipython3",
   "version": "3.5.6"
  }
 },
 "nbformat": 4,
 "nbformat_minor": 4
}
