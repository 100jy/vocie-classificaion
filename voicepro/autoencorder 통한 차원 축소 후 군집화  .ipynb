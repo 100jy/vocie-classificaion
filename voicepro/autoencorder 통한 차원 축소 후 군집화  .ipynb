{
 "cells": [
  {
   "cell_type": "markdown",
   "metadata": {},
   "source": [
    "# data load"
   ]
  },
  {
   "cell_type": "code",
   "execution_count": 23,
   "metadata": {},
   "outputs": [],
   "source": [
    "import pandas as pd\n",
    "import numpy as np\n",
    "data = pd.read_csv('./data.csv', encoding='euc-kr',index_col=0)\n",
    "name = data.index\n",
    "X = np.array(data)"
   ]
  },
  {
   "cell_type": "markdown",
   "metadata": {},
   "source": [
    "# scaling"
   ]
  },
  {
   "cell_type": "code",
   "execution_count": 9,
   "metadata": {},
   "outputs": [],
   "source": [
    "from sklearn.preprocessing import StandardScaler\n",
    "scale = StandardScaler()\n",
    "scale.fit(X)\n",
    "scaled_X = scale.transform(X)\n",
    "X_train = scaled_X\n",
    "X_test = scaled_X"
   ]
  },
  {
   "cell_type": "markdown",
   "metadata": {},
   "source": [
    "# AE 학습"
   ]
  },
  {
   "cell_type": "code",
   "execution_count": 10,
   "metadata": {},
   "outputs": [],
   "source": [
    "import tensorflow as tf\n",
    "\n",
    "################\n",
    "# layer params #\n",
    "################\n",
    "\n",
    "n_inputs = 25880\n",
    "n_hidden = 400 \n",
    "n_outputs = n_inputs\n",
    "# autoencoder\n",
    "X = tf.placeholder(tf.float32, shape=[None, n_inputs])\n",
    "hidden = tf.layers.dense(X, n_hidden)\n",
    "outputs = tf.layers.dense(hidden, n_outputs)\n",
    "################\n",
    "# Train params #\n",
    "################\n",
    "learning_rate = 0.01\n",
    "n_iterations = 1000\n",
    "pca = hidden\n",
    "# loss\n",
    "reconstruction_loss = tf.reduce_mean(tf.square(outputs - X)) # MSE\n",
    "# optimizer\n",
    "train_op = tf.train.AdamOptimizer(learning_rate).minimize(reconstruction_loss)\n",
    "with tf.Session() as sess:\n",
    "    tf.global_variables_initializer().run()\n",
    "    for iteration in range(n_iterations):\n",
    "        train_op.run(feed_dict={X: X_train})\n",
    "    pca_val = pca.eval(feed_dict={X: X_test})\n",
    "    "
   ]
  },
  {
   "cell_type": "code",
   "execution_count": 26,
   "metadata": {},
   "outputs": [],
   "source": [
    "df=pd.DataFrame(pca_val)"
   ]
  },
  {
   "cell_type": "code",
   "execution_count": 27,
   "metadata": {},
   "outputs": [],
   "source": [
    "from sklearn.preprocessing import StandardScaler\n",
    "scale = StandardScaler()\n",
    "scale.fit(df)\n",
    "scaled_ = scale.transform(df)"
   ]
  },
  {
   "cell_type": "code",
   "execution_count": 36,
   "metadata": {},
   "outputs": [
    {
     "data": {
      "image/png": "[encoded data removed]",
      "text/plain": [
       "<Figure size 432x288 with 1 Axes>"
      ]
     },
     "metadata": {
      "needs_background": "light"
     },
     "output_type": "display_data"
    }
   ],
   "source": [
    "from sklearn.cluster import KMeans\n",
    "import matplotlib.pyplot  as plt\n",
    "def elbow(X):\n",
    "    sse = []\n",
    "\n",
    "    for i in range(1,11):\n",
    "        km = KMeans(n_clusters=i,algorithm='auto', random_state=42)\n",
    "        km.fit(X)\n",
    "        sse.append(km.inertia_)\n",
    "\n",
    "    plt.plot(range(1,11), sse, marker='o')\n",
    "    plt.xlabel('K')\n",
    "    plt.ylabel('SSE')\n",
    "    plt.savefig('fig.png', dpi=300)\n",
    "    plt.show()\n",
    "    \n",
    "\n",
    "elbow(df)\n"
   ]
  },
  {
   "cell_type": "code",
   "execution_count": 48,
   "metadata": {},
   "outputs": [
    {
     "name": "stdout",
     "output_type": "stream",
     "text": [
      "     predict\n",
      "0          9\n",
      "1          6\n",
      "2          3\n",
      "3          8\n",
      "4          1\n",
      "..       ...\n",
      "121        1\n",
      "122        4\n",
      "123        8\n",
      "124        6\n",
      "125        8\n",
      "\n",
      "[126 rows x 1 columns]\n",
      "1번째 군집은 12개\n",
      "2번째 군집은 22개\n",
      "3번째 군집은 11개\n",
      "4번째 군집은 16개\n",
      "5번째 군집은 14개\n",
      "6번째 군집은 1개\n",
      "7번째 군집은 5개\n",
      "8번째 군집은 4개\n",
      "9번째 군집은 15개\n",
      "10번째 군집은 26개\n"
     ]
    }
   ],
   "source": [
    "from sklearn.cluster import KMeans\n",
    "import matplotlib.pyplot  as plt\n",
    "\n",
    "k = 10\n",
    "# create model and prediction\n",
    "model = KMeans(n_clusters=k,algorithm='auto')\n",
    "model.fit(df)\n",
    "predict = pd.DataFrame(model.predict(df))\n",
    "predict.columns=['predict']\n",
    "\n",
    "print(predict)\n",
    "count=[]\n",
    "for i in range(k):\n",
    "    count.append(sum(predict['predict']==i))\n",
    "\n",
    "string = 'abcdefghijklmnopqr'\n",
    "    \n",
    "for i in range(k):\n",
    "    print('{}번째 군집은 {}개'.format(i+1,count[i]))\n",
    "    predict['predict'] = predict['predict'].replace(i,string[i])"
   ]
  },
  {
   "cell_type": "code",
   "execution_count": 52,
   "metadata": {},
   "outputs": [
    {
     "name": "stdout",
     "output_type": "stream",
     "text": [
      "         pc1      pc2  singer cluster\n",
      "0   -112.211 -177.872    10cm       j\n",
      "1     608.77 -25.9668    Buzz       g\n",
      "2   -32.4225 -78.3893   Crush       d\n",
      "3   -85.2222  176.987   jk김동욱       i\n",
      "4    105.934 -101.057  K.Will       b\n",
      "..       ...      ...     ...     ...\n",
      "121  155.823 -53.8053      환희       b\n",
      "122  90.5532  92.9298     황인욱       e\n",
      "123  -151.27  69.0148      효린       i\n",
      "124  614.134  105.717      휘성       g\n",
      "125 -66.1148  27.6322      휘인       i\n",
      "\n",
      "[126 rows x 4 columns]\n"
     ]
    },
    {
     "data": {
      "text/html": [
       "<div>\n",
       "<style scoped>\n",
       "    .dataframe tbody tr th:only-of-type {\n",
       "        vertical-align: middle;\n",
       "    }\n",
       "\n",
       "    .dataframe tbody tr th {\n",
       "        vertical-align: top;\n",
       "    }\n",
       "\n",
       "    .dataframe thead th {\n",
       "        text-align: right;\n",
       "    }\n",
       "</style>\n",
       "<table border=\"1\" class=\"dataframe\">\n",
       "  <thead>\n",
       "    <tr style=\"text-align: right;\">\n",
       "      <th></th>\n",
       "      <th>pc1</th>\n",
       "      <th>pc2</th>\n",
       "      <th>singer</th>\n",
       "      <th>cluster</th>\n",
       "    </tr>\n",
       "  </thead>\n",
       "  <tbody>\n",
       "    <tr>\n",
       "      <th>3</th>\n",
       "      <td>-85.2222</td>\n",
       "      <td>176.987</td>\n",
       "      <td>jk김동욱</td>\n",
       "      <td>i</td>\n",
       "    </tr>\n",
       "    <tr>\n",
       "      <th>16</th>\n",
       "      <td>-8.71051</td>\n",
       "      <td>48.2186</td>\n",
       "      <td>김윤아</td>\n",
       "      <td>i</td>\n",
       "    </tr>\n",
       "    <tr>\n",
       "      <th>28</th>\n",
       "      <td>-204.508</td>\n",
       "      <td>78.8672</td>\n",
       "      <td>린</td>\n",
       "      <td>i</td>\n",
       "    </tr>\n",
       "    <tr>\n",
       "      <th>36</th>\n",
       "      <td>-35.4947</td>\n",
       "      <td>113.895</td>\n",
       "      <td>박진영</td>\n",
       "      <td>i</td>\n",
       "    </tr>\n",
       "    <tr>\n",
       "      <th>56</th>\n",
       "      <td>-128.379</td>\n",
       "      <td>60.1277</td>\n",
       "      <td>수지</td>\n",
       "      <td>i</td>\n",
       "    </tr>\n",
       "    <tr>\n",
       "      <th>57</th>\n",
       "      <td>-139.716</td>\n",
       "      <td>57.1968</td>\n",
       "      <td>신승훈</td>\n",
       "      <td>i</td>\n",
       "    </tr>\n",
       "    <tr>\n",
       "      <th>58</th>\n",
       "      <td>-29.585</td>\n",
       "      <td>78.5005</td>\n",
       "      <td>신예영</td>\n",
       "      <td>i</td>\n",
       "    </tr>\n",
       "    <tr>\n",
       "      <th>63</th>\n",
       "      <td>-59.1516</td>\n",
       "      <td>98.2386</td>\n",
       "      <td>양파</td>\n",
       "      <td>i</td>\n",
       "    </tr>\n",
       "    <tr>\n",
       "      <th>82</th>\n",
       "      <td>-52.8679</td>\n",
       "      <td>111.37</td>\n",
       "      <td>이적</td>\n",
       "      <td>i</td>\n",
       "    </tr>\n",
       "    <tr>\n",
       "      <th>90</th>\n",
       "      <td>-163.204</td>\n",
       "      <td>124.353</td>\n",
       "      <td>임정희</td>\n",
       "      <td>i</td>\n",
       "    </tr>\n",
       "    <tr>\n",
       "      <th>104</th>\n",
       "      <td>-96.4109</td>\n",
       "      <td>5.23492</td>\n",
       "      <td>조성모</td>\n",
       "      <td>i</td>\n",
       "    </tr>\n",
       "    <tr>\n",
       "      <th>105</th>\n",
       "      <td>-81.5332</td>\n",
       "      <td>163.367</td>\n",
       "      <td>조장혁</td>\n",
       "      <td>i</td>\n",
       "    </tr>\n",
       "    <tr>\n",
       "      <th>113</th>\n",
       "      <td>-72.1413</td>\n",
       "      <td>175.065</td>\n",
       "      <td>테이</td>\n",
       "      <td>i</td>\n",
       "    </tr>\n",
       "    <tr>\n",
       "      <th>123</th>\n",
       "      <td>-151.27</td>\n",
       "      <td>69.0148</td>\n",
       "      <td>효린</td>\n",
       "      <td>i</td>\n",
       "    </tr>\n",
       "    <tr>\n",
       "      <th>125</th>\n",
       "      <td>-66.1148</td>\n",
       "      <td>27.6322</td>\n",
       "      <td>휘인</td>\n",
       "      <td>i</td>\n",
       "    </tr>\n",
       "  </tbody>\n",
       "</table>\n",
       "</div>"
      ],
      "text/plain": [
       "         pc1      pc2 singer cluster\n",
       "3   -85.2222  176.987  jk김동욱       i\n",
       "16  -8.71051  48.2186    김윤아       i\n",
       "28  -204.508  78.8672      린       i\n",
       "36  -35.4947  113.895    박진영       i\n",
       "56  -128.379  60.1277     수지       i\n",
       "57  -139.716  57.1968    신승훈       i\n",
       "58   -29.585  78.5005    신예영       i\n",
       "63  -59.1516  98.2386     양파       i\n",
       "82  -52.8679   111.37     이적       i\n",
       "90  -163.204  124.353    임정희       i\n",
       "104 -96.4109  5.23492    조성모       i\n",
       "105 -81.5332  163.367    조장혁       i\n",
       "113 -72.1413  175.065     테이       i\n",
       "123  -151.27  69.0148     효린       i\n",
       "125 -66.1148  27.6322     휘인       i"
      ]
     },
     "execution_count": 52,
     "metadata": {},
     "output_type": "execute_result"
    },
    {
     "data": {
      "image/png": "[encoded data removed]",
      "text/plain": [
       "<Figure size 432x288 with 1 Axes>"
      ]
     },
     "metadata": {
      "needs_background": "light"
     },
     "output_type": "display_data"
    }
   ],
   "source": [
    "from sklearn.preprocessing import StandardScaler\n",
    "import numpy as np\n",
    "\n",
    "\n",
    "#PCA\n",
    "from sklearn.decomposition import PCA\n",
    "pca = PCA(n_components=2)\n",
    "pc = pca.fit_transform(df)\n",
    "new = np.c_[pc,name, predict]\n",
    "df_1  = pd.DataFrame(new,columns=['pc1','pc2','singer','cluster'])\n",
    "print(df_1)\n",
    "\n",
    "#polting\n",
    "import seaborn as sns\n",
    "sns.scatterplot(x='pc1',y='pc2',hue = 'cluster',data =df_1)\n",
    "#plt.savefig('fig3.png', dpi=300)\n",
    "df_1[df_1['cluster']=='i']"
   ]
  }
 ],
 "metadata": {
  "kernelspec": {
   "display_name": "cuda",
   "language": "python",
   "name": "cuda"
  },
  "language_info": {
   "codemirror_mode": {
    "name": "ipython",
    "version": 3
   },
   "file_extension": ".py",
   "mimetype": "text/x-python",
   "name": "python",
   "nbconvert_exporter": "python",
   "pygments_lexer": "ipython3",
   "version": "3.5.6"
  }
 },
 "nbformat": 4,
 "nbformat_minor": 4
}
