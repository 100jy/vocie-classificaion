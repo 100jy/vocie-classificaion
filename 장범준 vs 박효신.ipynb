{
 "cells": [
  {
   "cell_type": "markdown",
   "metadata": {},
   "source": [
    "# 장범준의 특징벡터와 박효신의 특징벡터 비교\n",
    "보컬 추출 후 MFCCs를 통해 만들어진 특징 벡터를 시각화를 통한 비교"
   ]
  },
  {
   "cell_type": "markdown",
   "metadata": {},
   "source": [
    "## PCA\n",
    "PCA 거쳐 2차원 축소 후 시각화"
   ]
  },
  {
   "cell_type": "code",
   "execution_count": 48,
   "metadata": {},
   "outputs": [
    {
     "name": "stdout",
     "output_type": "stream",
     "text": [
      "         pc1       pc2 singer\n",
      "0  0.0781267   2.05797    장범준\n",
      "1    5.71569 -0.406928    장범준\n",
      "2    1.12882  0.226642    장범준\n",
      "3   -2.75861  -3.18882    박효신\n",
      "4   -2.83148    3.4293    박효신\n",
      "5   -1.33254  -2.11816    박효신\n",
      "0    2.30754  0.625896  mean1\n",
      "1   -2.30754 -0.625896  mean2\n"
     ]
    },
    {
     "data": {
      "text/plain": [
       "<matplotlib.axes._subplots.AxesSubplot at 0x28318516be0>"
      ]
     },
     "execution_count": 48,
     "metadata": {},
     "output_type": "execute_result"
    },
    {
     "data": {
      "image/png": "[encoded data removed]",
      "text/plain": [
       "<Figure size 432x288 with 1 Axes>"
      ]
     },
     "metadata": {
      "needs_background": "light"
     },
     "output_type": "display_data"
    }
   ],
   "source": [
    "from sklearn.preprocessing import StandardScaler\n",
    "import pandas as pd\n",
    "import numpy as np\n",
    "\n",
    "x = pd.read_csv('C:/Users/wnduq/Desktop/data.csv',encoding='euc-kr')\n",
    "name_list=x['Unnamed: 0']\n",
    "del x['Unnamed: 0']\n",
    "\n",
    "#표준화\n",
    "X = StandardScaler().fit_transform(x)\n",
    "#PCA\n",
    "from sklearn.decomposition import PCA\n",
    "pca = PCA(n_components=2)\n",
    "pc = pca.fit_transform(X)\n",
    "new = np.c_[pc,name_list]\n",
    "df  = pd.DataFrame(new,columns=['pc1','pc2','singer'])\n",
    "m1_x = np.mean(df[:3]['pc1'])\n",
    "m1_y = np.mean(df[:3]['pc2'])\n",
    "m2_x = np.mean(df[3:]['pc1'])\n",
    "m2_y = np.mean(df[3:]['pc2'])\n",
    "\n",
    "df2 = pd.DataFrame({'pc1': [m1_x,m2_x],\n",
    "             'pc2': [m1_y,m2_y],\n",
    "             'singer' : ['mean1','mean2']})\n",
    "df = pd.concat([df,df2],axis = 0)\n",
    "print(df)\n"
   ]
  },
  {
   "cell_type": "markdown",
   "metadata": {},
   "source": [
    "# plot\n",
    "축소된 2차원 데이터를 시각화"
   ]
  },
  {
   "cell_type": "code",
   "execution_count": null,
   "metadata": {},
   "outputs": [],
   "source": [
    "#polting\n",
    "import seaborn as sns\n",
    "sns.scatterplot(x=df['pc1'],y=df['pc2'],hue=df['singer'])\n"
   ]
  }
 ],
 "metadata": {
  "kernelspec": {
   "display_name": "cuda",
   "language": "python",
   "name": "cuda"
  },
  "language_info": {
   "codemirror_mode": {
    "name": "ipython",
    "version": 3
   },
   "file_extension": ".py",
   "mimetype": "text/x-python",
   "name": "python",
   "nbconvert_exporter": "python",
   "pygments_lexer": "ipython3",
   "version": "3.5.6"
  }
 },
 "nbformat": 4,
 "nbformat_minor": 4
}
